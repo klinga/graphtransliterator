{
 "cells": [
  {
   "cell_type": "code",
   "execution_count": 1,
   "id": "d283cec2",
   "metadata": {},
   "outputs": [],
   "source": [
    "from graphtransliterator import GraphTransliterator"
   ]
  },
  {
   "cell_type": "code",
   "execution_count": 2,
   "id": "ce78db94",
   "metadata": {},
   "outputs": [
    {
     "data": {
      "text/plain": [
       "'A'"
      ]
     },
     "execution_count": 2,
     "metadata": {},
     "output_type": "execute_result"
    }
   ],
   "source": [
    "yaml_ = \"\"\"\n",
    "  tokens:\n",
    "    a: [vowel]               # type of token (\"a\") and its class (vowel)\n",
    "    bb: [consonant, b_class] # type of token (\"bb\") and its classes (consonant, b_class)\n",
    "    ' ': [wb]                # type of token (\" \") and its class (\"wb\", for wordbreak)\n",
    "  rules:\n",
    "    a: A       # transliterate \"a\" to \"A\"\n",
    "    bb: B      # transliterate \"bb\" to \"B\"\n",
    "    a a: <2AS> # transliterate (\"a\", \"a\") to \"<2AS>\"\n",
    "    ' ': ' '   # transliterate ' ' to ' '\n",
    "  whitespace:\n",
    "    default: \" \"        # default whitespace token\n",
    "    consolidate: false  # whitespace should not be consolidated\n",
    "    token_class: wb     # whitespace token class\n",
    "\"\"\"\n",
    "gt_one = GraphTransliterator.from_yaml(yaml_)\n",
    "gt_one.transliterate('a')"
   ]
  },
  {
   "cell_type": "code",
   "execution_count": 3,
   "id": "3de74d63",
   "metadata": {},
   "outputs": [
    {
     "data": {
      "text/plain": [
       "'B'"
      ]
     },
     "execution_count": 3,
     "metadata": {},
     "output_type": "execute_result"
    }
   ],
   "source": [
    "gt_one.transliterate('bb')"
   ]
  },
  {
   "cell_type": "code",
   "execution_count": 4,
   "id": "8f0f8a09",
   "metadata": {},
   "outputs": [
    {
     "data": {
      "text/plain": [
       "'<2AS>B'"
      ]
     },
     "execution_count": 4,
     "metadata": {},
     "output_type": "execute_result"
    }
   ],
   "source": [
    "gt_one.transliterate('aabb')"
   ]
  },
  {
   "cell_type": "code",
   "execution_count": 5,
   "id": "7dd91c4a",
   "metadata": {},
   "outputs": [
    {
     "data": {
      "text/plain": [
       "[' ', 'a', 'bb', 'a', ' ']"
      ]
     },
     "execution_count": 5,
     "metadata": {},
     "output_type": "execute_result"
    }
   ],
   "source": [
    "gt_one.tokenize('abba')"
   ]
  },
  {
   "cell_type": "code",
   "execution_count": 6,
   "id": "9cdaddc8",
   "metadata": {},
   "outputs": [
    {
     "data": {
      "text/plain": [
       "'<SINGLE_A>'"
      ]
     },
     "execution_count": 6,
     "metadata": {},
     "output_type": "execute_result"
    }
   ],
   "source": [
    "yaml_ = \"\"\"\n",
    "  tokens:\n",
    "    a: []      # \"a\" token with no classes\n",
    "    aa: []     # \"aa\" token with no classes\n",
    "    ' ': [wb]  # \" \" token and its class (\"wb\", for wordbreak)\n",
    "  rules:\n",
    "    aa: <DOUBLE_A>  # transliterate \"aa\" to \"<DOUBLE_A>\"\n",
    "    a: <SINGLE_A>   # transliterate \"a\" to \"<SINGLE_A>\"\n",
    "  whitespace:\n",
    "    default: \" \"        # default whitespace token\n",
    "    consolidate: false  # whitespace should not be consolidated\n",
    "    token_class: wb     # whitespace token class\n",
    "\"\"\"\n",
    "gt_two = GraphTransliterator.from_yaml(yaml_)\n",
    "gt_two.transliterate('a')"
   ]
  },
  {
   "cell_type": "code",
   "execution_count": 7,
   "id": "4f928f31",
   "metadata": {},
   "outputs": [
    {
     "data": {
      "text/plain": [
       "'<DOUBLE_A>'"
      ]
     },
     "execution_count": 7,
     "metadata": {},
     "output_type": "execute_result"
    }
   ],
   "source": [
    "gt_two.transliterate('aa')"
   ]
  },
  {
   "cell_type": "code",
   "execution_count": 8,
   "id": "20b9996f",
   "metadata": {},
   "outputs": [
    {
     "data": {
      "text/plain": [
       "'<DOUBLE_A><SINGLE_A>'"
      ]
     },
     "execution_count": 8,
     "metadata": {},
     "output_type": "execute_result"
    }
   ],
   "source": [
    "gt_two.transliterate('aaa')"
   ]
  },
  {
   "cell_type": "code",
   "execution_count": 9,
   "id": "a86ea826",
   "metadata": {},
   "outputs": [
    {
     "data": {
      "text/plain": [
       "{'a': set(), 'aa': set(), ' ': {'wb'}}"
      ]
     },
     "execution_count": 9,
     "metadata": {},
     "output_type": "execute_result"
    }
   ],
   "source": [
    "gt_two.tokens"
   ]
  },
  {
   "cell_type": "code",
   "execution_count": 10,
   "id": "433f85d7",
   "metadata": {},
   "outputs": [
    {
     "data": {
      "text/plain": [
       "'<<AB>>'"
      ]
     },
     "execution_count": 10,
     "metadata": {},
     "output_type": "execute_result"
    }
   ],
   "source": [
    "yaml_ = \"\"\"\n",
    "  tokens:\n",
    "    a: []\n",
    "    b: []\n",
    "    c: [class_of_c]\n",
    "    ' ': [wb]\n",
    "  rules:\n",
    "    a: <<A>>\n",
    "    a b: <<AB>>\n",
    "    b: <<B>>\n",
    "    c: <<C>>\n",
    "    ' ': _\n",
    "    <class_of_c> a b: <<AB_after_C>>\n",
    "  whitespace:\n",
    "    default: \" \"\n",
    "    consolidate: false\n",
    "    token_class: wb\n",
    "\"\"\"\n",
    "gt_three = GraphTransliterator.from_yaml(yaml_)\n",
    "gt_three.transliterate(\"ab\")  # should match rule \"a b\""
   ]
  },
  {
   "cell_type": "code",
   "execution_count": 11,
   "id": "144e92d7",
   "metadata": {},
   "outputs": [
    {
     "data": {
      "text/plain": [
       "'<<C>><<AB_after_C>>'"
      ]
     },
     "execution_count": 11,
     "metadata": {},
     "output_type": "execute_result"
    }
   ],
   "source": [
    "gt_three.transliterate(\"cab\") # should match rules: \"c\", and \"<class_of_c> a b\""
   ]
  },
  {
   "cell_type": "code",
   "execution_count": 12,
   "id": "c8e8c7cb",
   "metadata": {},
   "outputs": [
    {
     "data": {
      "text/plain": [
       "[TransliterationRule(production='<<AB_after_C>>', prev_classes=['class_of_c'], prev_tokens=None, tokens=['a', 'b'], next_tokens=None, next_classes=None, cost=0.32192809488736235),\n",
       " TransliterationRule(production='<<AB>>', prev_classes=None, prev_tokens=None, tokens=['a', 'b'], next_tokens=None, next_classes=None, cost=0.41503749927884376),\n",
       " TransliterationRule(production='<<A>>', prev_classes=None, prev_tokens=None, tokens=['a'], next_tokens=None, next_classes=None, cost=0.5849625007211562),\n",
       " TransliterationRule(production='<<B>>', prev_classes=None, prev_tokens=None, tokens=['b'], next_tokens=None, next_classes=None, cost=0.5849625007211562),\n",
       " TransliterationRule(production='<<C>>', prev_classes=None, prev_tokens=None, tokens=['c'], next_tokens=None, next_classes=None, cost=0.5849625007211562),\n",
       " TransliterationRule(production='_', prev_classes=None, prev_tokens=None, tokens=[' '], next_tokens=None, next_classes=None, cost=0.5849625007211562)]"
      ]
     },
     "execution_count": 12,
     "metadata": {},
     "output_type": "execute_result"
    }
   ],
   "source": [
    "gt_three.rules"
   ]
  },
  {
   "cell_type": "code",
   "execution_count": 13,
   "id": "7e466c2d",
   "metadata": {},
   "outputs": [
    {
     "data": {
      "text/plain": [
       "'_A_'"
      ]
     },
     "execution_count": 13,
     "metadata": {},
     "output_type": "execute_result"
    }
   ],
   "source": [
    "yaml_ = \"\"\"\n",
    "  tokens:\n",
    "    a: []\n",
    "    ' ': [wb]\n",
    "  rules:\n",
    "    <wb> a: _A\n",
    "    a <wb>: A_\n",
    "    <wb> a <wb>: _A_\n",
    "    a: a\n",
    "    ' ': ' '\n",
    "  whitespace:\n",
    "    default: \" \"        # default whitespace token\n",
    "    consolidate: true   # whitespace should be consolidated\n",
    "    token_class: wb     # whitespace token class\n",
    "\"\"\"\n",
    "gt = GraphTransliterator.from_yaml(yaml_)\n",
    "gt.transliterate('a')   # whitespace present at start of string"
   ]
  },
  {
   "cell_type": "code",
   "execution_count": 14,
   "id": "5d58fb9a",
   "metadata": {},
   "outputs": [
    {
     "data": {
      "text/plain": [
       "'_AA_'"
      ]
     },
     "execution_count": 14,
     "metadata": {},
     "output_type": "execute_result"
    }
   ],
   "source": [
    "gt.transliterate('aa')  # whitespace present at start and end of string"
   ]
  },
  {
   "cell_type": "code",
   "execution_count": 15,
   "id": "b6e46dd2",
   "metadata": {},
   "outputs": [
    {
     "data": {
      "text/plain": [
       "'_A_'"
      ]
     },
     "execution_count": 15,
     "metadata": {},
     "output_type": "execute_result"
    }
   ],
   "source": [
    "gt.transliterate(' a')  # consolidate removes whitespace at start of string"
   ]
  },
  {
   "cell_type": "code",
   "execution_count": 16,
   "id": "7ce3d0e3",
   "metadata": {},
   "outputs": [
    {
     "data": {
      "text/plain": [
       "'_A_'"
      ]
     },
     "execution_count": 16,
     "metadata": {},
     "output_type": "execute_result"
    }
   ],
   "source": [
    "gt.transliterate('a ')  # consolidate removes whitespace at end of string"
   ]
  },
  {
   "cell_type": "code",
   "execution_count": 17,
   "id": "db8851ff",
   "metadata": {},
   "outputs": [
    {
     "data": {
      "text/plain": [
       "WhitespaceRules(default=' ', token_class='wb', consolidate=True)"
      ]
     },
     "execution_count": 17,
     "metadata": {},
     "output_type": "execute_result"
    }
   ],
   "source": [
    "gt.whitespace"
   ]
  },
  {
   "cell_type": "code",
   "execution_count": 18,
   "id": "059168f9",
   "metadata": {},
   "outputs": [
    {
     "data": {
      "text/plain": [
       "'A,A'"
      ]
     },
     "execution_count": 18,
     "metadata": {},
     "output_type": "execute_result"
    }
   ],
   "source": [
    "yaml_ = \"\"\"\n",
    "  tokens:\n",
    "    a: [vowel]\n",
    "    ' ': [wb]\n",
    "  rules:\n",
    "    a: A\n",
    "    ' ': ' '\n",
    "  whitespace:\n",
    "    default: \" \"\n",
    "    consolidate: false\n",
    "    token_class: wb\n",
    "  onmatch_rules:\n",
    "    - <vowel> + <vowel>: ',' # add a comma between vowels\n",
    " \"\"\"\n",
    "gt = GraphTransliterator.from_yaml(yaml_)\n",
    "gt.transliterate('aa')"
   ]
  },
  {
   "cell_type": "code",
   "execution_count": 19,
   "id": "a6c7a539",
   "metadata": {},
   "outputs": [
    {
     "data": {
      "text/plain": [
       "[OnMatchRule(prev_classes=['vowel'], next_classes=['vowel'], production=',')]"
      ]
     },
     "execution_count": 19,
     "metadata": {},
     "output_type": "execute_result"
    }
   ],
   "source": [
    "gt.onmatch_rules"
   ]
  },
  {
   "cell_type": "code",
   "execution_count": 20,
   "id": "82224f75",
   "metadata": {},
   "outputs": [
    {
     "data": {
      "text/plain": [
       "{'author': 'Author McAuthorson',\n",
       " 'version': '0.1.1',\n",
       " 'description': 'A sample Graph Transliterator'}"
      ]
     },
     "execution_count": 20,
     "metadata": {},
     "output_type": "execute_result"
    }
   ],
   "source": [
    "yaml_ = \"\"\"\n",
    "  tokens:\n",
    "    a: []\n",
    "    ' ': [wb]\n",
    "  rules:\n",
    "    a: A\n",
    "    ' ': ' '\n",
    "  whitespace:\n",
    "    default: \" \"\n",
    "    consolidate: false\n",
    "    token_class: wb\n",
    "  metadata:\n",
    "    author: Author McAuthorson\n",
    "    version: 0.1.1\n",
    "    description: A sample Graph Transliterator\n",
    "  \"\"\"\n",
    "gt = GraphTransliterator.from_yaml(yaml_)\n",
    "gt.metadata"
   ]
  },
  {
   "cell_type": "code",
   "execution_count": 21,
   "id": "3bc546a5",
   "metadata": {},
   "outputs": [
    {
     "data": {
      "text/plain": [
       "'B'"
      ]
     },
     "execution_count": 21,
     "metadata": {},
     "output_type": "execute_result"
    }
   ],
   "source": [
    "yaml_ = \"\"\"\n",
    "  tokens:\n",
    "    b: []\n",
    "    c: []\n",
    "    ' ': [wb]\n",
    "  rules:\n",
    "    b: \\N{LATIN CAPITAL LETTER B}\n",
    "    c: \\u0043    # hexadecimal Unicode character code for 'C'\n",
    "    ' ': ' '\n",
    "  whitespace:\n",
    "    default: \" \"\n",
    "    consolidate: false\n",
    "    token_class: wb\n",
    "  \"\"\"\n",
    "gt = GraphTransliterator.from_yaml(yaml_)\n",
    "gt.transliterate('b')"
   ]
  },
  {
   "cell_type": "code",
   "execution_count": 22,
   "id": "c329a890",
   "metadata": {},
   "outputs": [
    {
     "data": {
      "text/plain": [
       "'C'"
      ]
     },
     "execution_count": 22,
     "metadata": {},
     "output_type": "execute_result"
    }
   ],
   "source": [
    "gt.transliterate('c')"
   ]
  },
  {
   "cell_type": "code",
   "execution_count": 23,
   "id": "dee118fc",
   "metadata": {},
   "outputs": [
    {
     "data": {
      "text/plain": [
       "'A'"
      ]
     },
     "execution_count": 23,
     "metadata": {},
     "output_type": "execute_result"
    }
   ],
   "source": [
    "settings = {\n",
    "  'tokens': {'a': ['vowel'],\n",
    "             ' ': ['wb']},\n",
    "  'rules': [\n",
    "      {'production': 'A', 'tokens': ['a']},\n",
    "      {'production': ' ', 'tokens': [' ']}],\n",
    "  'onmatch_rules': [\n",
    "      {'prev_classes': ['vowel'],\n",
    "       'next_classes': ['vowel'],\n",
    "       'production': ','}],\n",
    "  'whitespace': {\n",
    "      'default': ' ',\n",
    "      'consolidate': False,\n",
    "      'token_class': 'wb'},\n",
    "  'metadata': {\n",
    "      'author': 'Author McAuthorson'}\n",
    "}\n",
    "gt = GraphTransliterator.from_dict(settings)\n",
    "gt.transliterate('a')"
   ]
  },
  {
   "cell_type": "code",
   "execution_count": 24,
   "id": "6a23e8b2",
   "metadata": {},
   "outputs": [
    {
     "name": "stdout",
     "output_type": "stream",
     "text": [
      "Exception reporting mode: Minimal\n"
     ]
    }
   ],
   "source": [
    "%xmode Minimal"
   ]
  },
  {
   "cell_type": "code",
   "execution_count": 25,
   "id": "e81e75ed",
   "metadata": {},
   "outputs": [
    {
     "name": "stderr",
     "output_type": "stream",
     "text": [
      "WARNING:root:The pattern [{'a'}, {'a'}, {' ', 'b', 'a'}] can be matched by both:\n",
      "  <class1> a\n",
      "  <class2> a\n",
      "\n"
     ]
    },
    {
     "name": "stderr",
     "output_type": "stream",
     "text": [
      "WARNING:root:The pattern [{'a'}, {'b'}, {'a'}] can be matched by both:\n",
      "  <class1> b\n",
      "  b <class2>\n",
      "\n"
     ]
    },
    {
     "ename": "AmbiguousTransliterationRulesException",
     "evalue": "",
     "output_type": "error",
     "traceback": [
      "\u001b[0;31mAmbiguousTransliterationRulesException\u001b[0m\n"
     ]
    }
   ],
   "source": [
    "yaml_ = \"\"\"\n",
    "tokens:\n",
    "  a: [class1, class2]\n",
    "  b: []\n",
    "  ' ': [wb]\n",
    "rules:\n",
    "  <class1> a: A\n",
    "  <class2> a: AA # ambiguous rule\n",
    "  <class1> b: BB\n",
    "  b <class2>: BB # also ambiguous\n",
    "whitespace:\n",
    "  default: ' '\n",
    "  consolidate: True\n",
    "  token_class: wb\n",
    "\"\"\"\n",
    "gt = GraphTransliterator.from_yaml(yaml_)"
   ]
  },
  {
   "cell_type": "code",
   "execution_count": 26,
   "id": "f1a058d1",
   "metadata": {},
   "outputs": [
    {
     "data": {
      "text/plain": [
       "'A_A'"
      ]
     },
     "execution_count": 26,
     "metadata": {},
     "output_type": "execute_result"
    }
   ],
   "source": [
    "GraphTransliterator.from_yaml(\n",
    "'''\n",
    "tokens:\n",
    "  a: []\n",
    "  ' ': [wb]\n",
    "rules:\n",
    "  a: A\n",
    "  ' ': '_'\n",
    "whitespace:\n",
    "  default: ' '\n",
    "  consolidate: True\n",
    "  token_class: wb\n",
    "''').transliterate(\"a a\")"
   ]
  },
  {
   "cell_type": "code",
   "execution_count": 27,
   "id": "12e42e40",
   "metadata": {},
   "outputs": [
    {
     "name": "stderr",
     "output_type": "stream",
     "text": [
      "WARNING:graphtransliterator:Unrecognizable token ! at pos 1 of a!a\n"
     ]
    },
    {
     "ename": "UnrecognizableInputTokenException",
     "evalue": "",
     "output_type": "error",
     "traceback": [
      "\u001b[0;31mUnrecognizableInputTokenException\u001b[0m\n"
     ]
    }
   ],
   "source": [
    "from graphtransliterator import GraphTransliterator\n",
    "yaml_ = \"\"\"\n",
    "  tokens:\n",
    "   a: []\n",
    "   ' ': [wb]\n",
    "  rules:\n",
    "    a: A\n",
    "    ' ': ' '\n",
    "  whitespace:\n",
    "    default: \" \"\n",
    "    consolidate: true\n",
    "    token_class: wb\n",
    "\"\"\"\n",
    "GraphTransliterator.from_yaml(yaml_).transliterate(\"a!a\") # ignore_errors=False"
   ]
  },
  {
   "cell_type": "code",
   "execution_count": 28,
   "id": "c2763e12",
   "metadata": {},
   "outputs": [
    {
     "name": "stderr",
     "output_type": "stream",
     "text": [
      "WARNING:graphtransliterator:Unrecognizable token ! at pos 1 of a!a\n"
     ]
    },
    {
     "data": {
      "text/plain": [
       "'AA'"
      ]
     },
     "execution_count": 28,
     "metadata": {},
     "output_type": "execute_result"
    }
   ],
   "source": [
    "GraphTransliterator.from_yaml(yaml_, ignore_errors=True).transliterate(\"a!a\") # ignore_errors=True"
   ]
  },
  {
   "cell_type": "code",
   "execution_count": 29,
   "id": "6b036b87",
   "metadata": {},
   "outputs": [
    {
     "name": "stderr",
     "output_type": "stream",
     "text": [
      "WARNING:graphtransliterator:No matching transliteration rule at token pos 2 of [' ', 'a', 'b', ' ']\n"
     ]
    },
    {
     "ename": "NoMatchingTransliterationRuleException",
     "evalue": "",
     "output_type": "error",
     "traceback": [
      "\u001b[0;31mNoMatchingTransliterationRuleException\u001b[0m\n"
     ]
    }
   ],
   "source": [
    "yaml_='''\n",
    "  tokens:\n",
    "    a: []\n",
    "    b: []\n",
    "    ' ': [wb]\n",
    "  rules:\n",
    "    a: A\n",
    "    b (a): B\n",
    "  whitespace:\n",
    "    default: ' '\n",
    "    token_class: wb\n",
    "    consolidate: False\n",
    "'''\n",
    "gt = GraphTransliterator.from_yaml(yaml_)\n",
    "gt.transliterate(\"ab\")"
   ]
  },
  {
   "cell_type": "code",
   "execution_count": 30,
   "id": "1fe7067a",
   "metadata": {},
   "outputs": [
    {
     "name": "stderr",
     "output_type": "stream",
     "text": [
      "WARNING:graphtransliterator:No matching transliteration rule at token pos 2 of [' ', 'a', 'b', ' ']\n"
     ]
    },
    {
     "data": {
      "text/plain": [
       "'A'"
      ]
     },
     "execution_count": 30,
     "metadata": {},
     "output_type": "execute_result"
    }
   ],
   "source": [
    "gt.ignore_errors = True\n",
    "gt.transliterate(\"ab\")"
   ]
  },
  {
   "cell_type": "code",
   "execution_count": 31,
   "id": "822af51e",
   "metadata": {},
   "outputs": [
    {
     "data": {
      "text/plain": [
       "[' ', 'a', 'a', ' ']"
      ]
     },
     "execution_count": 31,
     "metadata": {},
     "output_type": "execute_result"
    }
   ],
   "source": [
    "gt = GraphTransliterator.from_yaml('''\n",
    "        tokens:\n",
    "            a: []\n",
    "            a a: []\n",
    "            ' ': [wb]\n",
    "        rules:\n",
    "            a: <A>\n",
    "            a a: <AA>\n",
    "        whitespace:\n",
    "            default: ' '\n",
    "            consolidate: True\n",
    "            token_class: wb\n",
    "''')\n",
    "tokens = gt.tokenize(\"aa\")\n",
    "tokens # whitespace added to ends"
   ]
  },
  {
   "cell_type": "code",
   "execution_count": 32,
   "id": "0f3f684a",
   "metadata": {},
   "outputs": [
    {
     "data": {
      "text/plain": [
       "0"
      ]
     },
     "execution_count": 32,
     "metadata": {},
     "output_type": "execute_result"
    }
   ],
   "source": [
    "gt.match_at(1, tokens) # returns index to rule"
   ]
  },
  {
   "cell_type": "code",
   "execution_count": 33,
   "id": "128ef067",
   "metadata": {},
   "outputs": [
    {
     "data": {
      "text/plain": [
       "TransliterationRule(production='<AA>', prev_classes=None, prev_tokens=None, tokens=['a', 'a'], next_tokens=None, next_classes=None, cost=0.41503749927884376)"
      ]
     },
     "execution_count": 33,
     "metadata": {},
     "output_type": "execute_result"
    }
   ],
   "source": [
    "gt.rules[gt.match_at(1, tokens)] # actual rule"
   ]
  },
  {
   "cell_type": "code",
   "execution_count": 34,
   "id": "a5220183",
   "metadata": {},
   "outputs": [
    {
     "data": {
      "text/plain": [
       "[0, 1]"
      ]
     },
     "execution_count": 34,
     "metadata": {},
     "output_type": "execute_result"
    }
   ],
   "source": [
    "gt.match_at(1, tokens, match_all=True) # index to rules, with match_all"
   ]
  },
  {
   "cell_type": "code",
   "execution_count": 35,
   "id": "b55b6b0d",
   "metadata": {},
   "outputs": [
    {
     "data": {
      "text/plain": [
       "[TransliterationRule(production='<AA>', prev_classes=None, prev_tokens=None, tokens=['a', 'a'], next_tokens=None, next_classes=None, cost=0.41503749927884376),\n",
       " TransliterationRule(production='<A>', prev_classes=None, prev_tokens=None, tokens=['a'], next_tokens=None, next_classes=None, cost=0.5849625007211562)]"
      ]
     },
     "execution_count": 35,
     "metadata": {},
     "output_type": "execute_result"
    }
   ],
   "source": [
    "[gt.rules[_] for _ in gt.match_at(1, tokens, match_all=True)] # actual rules, with match_all"
   ]
  },
  {
   "cell_type": "code",
   "execution_count": 36,
   "id": "8237980e",
   "metadata": {},
   "outputs": [
    {
     "data": {
      "text/plain": [
       "'<AA><A>'"
      ]
     },
     "execution_count": 36,
     "metadata": {},
     "output_type": "execute_result"
    }
   ],
   "source": [
    "gt.transliterate(\"aaa\")"
   ]
  },
  {
   "cell_type": "code",
   "execution_count": 37,
   "id": "1fdbd951",
   "metadata": {},
   "outputs": [
    {
     "data": {
      "text/plain": [
       "[TransliterationRule(production='<AA>', prev_classes=None, prev_tokens=None, tokens=['a', 'a'], next_tokens=None, next_classes=None, cost=0.41503749927884376),\n",
       " TransliterationRule(production='<A>', prev_classes=None, prev_tokens=None, tokens=['a'], next_tokens=None, next_classes=None, cost=0.5849625007211562)]"
      ]
     },
     "execution_count": 37,
     "metadata": {},
     "output_type": "execute_result"
    }
   ],
   "source": [
    "gt.last_matched_rules"
   ]
  },
  {
   "cell_type": "code",
   "execution_count": 38,
   "id": "420ee193",
   "metadata": {},
   "outputs": [
    {
     "data": {
      "text/plain": [
       "[['a', 'a'], ['a']]"
      ]
     },
     "execution_count": 38,
     "metadata": {},
     "output_type": "execute_result"
    }
   ],
   "source": [
    "gt.last_matched_rule_tokens"
   ]
  },
  {
   "cell_type": "code",
   "execution_count": 39,
   "id": "4dc5ab3d",
   "metadata": {},
   "outputs": [
    {
     "data": {
      "text/plain": [
       "[TransliterationRule(production='<AA>', prev_classes=None, prev_tokens=None, tokens=['a', 'a'], next_tokens=None, next_classes=None, cost=0.41503749927884376),\n",
       " TransliterationRule(production='<A>', prev_classes=None, prev_tokens=None, tokens=['a'], next_tokens=None, next_classes=None, cost=0.5849625007211562)]"
      ]
     },
     "execution_count": 39,
     "metadata": {},
     "output_type": "execute_result"
    }
   ],
   "source": [
    "gt.rules"
   ]
  },
  {
   "cell_type": "code",
   "execution_count": 40,
   "id": "e9227c98",
   "metadata": {},
   "outputs": [
    {
     "data": {
      "text/plain": [
       "[TransliterationRule(production='<A>', prev_classes=None, prev_tokens=None, tokens=['a'], next_tokens=None, next_classes=None, cost=0.5849625007211562)]"
      ]
     },
     "execution_count": 40,
     "metadata": {},
     "output_type": "execute_result"
    }
   ],
   "source": [
    "gt.pruned_of('<AA>').rules"
   ]
  },
  {
   "cell_type": "code",
   "execution_count": 41,
   "id": "61ec0d87",
   "metadata": {},
   "outputs": [
    {
     "data": {
      "text/plain": [
       "[]"
      ]
     },
     "execution_count": 41,
     "metadata": {},
     "output_type": "execute_result"
    }
   ],
   "source": [
    "gt.pruned_of(['<A>', '<AA>']).rules"
   ]
  },
  {
   "cell_type": "code",
   "execution_count": 42,
   "id": "7dc790a6",
   "metadata": {},
   "outputs": [
    {
     "data": {
      "text/plain": [
       "<graphtransliterator.graphs.DirectedGraph at 0x10a0f6a00>"
      ]
     },
     "execution_count": 42,
     "metadata": {},
     "output_type": "execute_result"
    }
   ],
   "source": [
    "gt = GraphTransliterator.from_yaml(\n",
    "    \"\"\"\n",
    "    tokens:\n",
    "      a: []\n",
    "      ' ': [wb]\n",
    "    rules:\n",
    "      a: b\n",
    "      <wb> a: B\n",
    "      ' ': ' '\n",
    "    whitespace:\n",
    "      token_class: wb\n",
    "      default: ' '\n",
    "      consolidate: false\n",
    "    \"\"\")\n",
    "gt.graph"
   ]
  },
  {
   "cell_type": "code",
   "execution_count": 43,
   "id": "3c9e450e",
   "metadata": {},
   "outputs": [
    {
     "data": {
      "text/plain": [
       "[{'type': 'Start', 'ordered_children': {'a': [1], ' ': [4]}},\n",
       " {'type': 'token', 'token': 'a', 'ordered_children': {'__rules__': [2, 3]}},\n",
       " {'type': 'rule', 'rule_key': 0, 'accepting': True, 'ordered_children': {}},\n",
       " {'type': 'rule', 'rule_key': 1, 'accepting': True, 'ordered_children': {}},\n",
       " {'type': 'token', 'token': ' ', 'ordered_children': {'__rules__': [5]}},\n",
       " {'type': 'rule', 'rule_key': 2, 'accepting': True, 'ordered_children': {}}]"
      ]
     },
     "execution_count": 43,
     "metadata": {},
     "output_type": "execute_result"
    }
   ],
   "source": [
    "gt.graph.node"
   ]
  },
  {
   "cell_type": "code",
   "execution_count": 44,
   "id": "a75f7c09",
   "metadata": {},
   "outputs": [
    {
     "data": {
      "text/plain": [
       "{0: {1: {'token': 'a', 'cost': 0.41503749927884376},\n",
       "  4: {'token': ' ', 'cost': 0.5849625007211562}},\n",
       " 1: {2: {'cost': 0.41503749927884376, 'constraints': {'prev_classes': ['wb']}},\n",
       "  3: {'cost': 0.5849625007211562}},\n",
       " 4: {5: {'cost': 0.5849625007211562}}}"
      ]
     },
     "execution_count": 44,
     "metadata": {},
     "output_type": "execute_result"
    }
   ],
   "source": [
    "gt.graph.edge"
   ]
  },
  {
   "cell_type": "code",
   "execution_count": 45,
   "id": "7ee03e62",
   "metadata": {},
   "outputs": [
    {
     "data": {
      "text/plain": [
       "{'token': 'a', 'cost': 0.41503749927884376}"
      ]
     },
     "execution_count": 45,
     "metadata": {},
     "output_type": "execute_result"
    }
   ],
   "source": [
    "gt.graph.edge[0][1]"
   ]
  },
  {
   "cell_type": "code",
   "execution_count": 46,
   "id": "d8af5e60",
   "metadata": {},
   "outputs": [
    {
     "data": {
      "text/plain": [
       "{'cost': 0.41503749927884376, 'constraints': {'prev_classes': ['wb']}}"
      ]
     },
     "execution_count": 46,
     "metadata": {},
     "output_type": "execute_result"
    }
   ],
   "source": [
    "gt.graph.edge[1][2]"
   ]
  },
  {
   "cell_type": "code",
   "execution_count": 47,
   "id": "fd4f53b4",
   "metadata": {},
   "outputs": [
    {
     "data": {
      "text/plain": [
       "[(0, 1), (1, 2), (1, 3), (0, 4), (4, 5)]"
      ]
     },
     "execution_count": 47,
     "metadata": {},
     "output_type": "execute_result"
    }
   ],
   "source": [
    "gt.graph.edge_list"
   ]
  },
  {
   "cell_type": "code",
   "execution_count": 48,
   "id": "605ce0f7",
   "metadata": {},
   "outputs": [
    {
     "data": {
      "text/plain": [
       "{'type': 'Start', 'ordered_children': {'a': [1], ' ': [4]}}"
      ]
     },
     "execution_count": 48,
     "metadata": {},
     "output_type": "execute_result"
    }
   ],
   "source": [
    "gt.graph.node[0]"
   ]
  },
  {
   "cell_type": "code",
   "execution_count": 49,
   "id": "4cd758d5",
   "metadata": {},
   "outputs": [
    {
     "data": {
      "text/plain": [
       "{'type': 'token', 'token': 'a', 'ordered_children': {'__rules__': [2, 3]}}"
      ]
     },
     "execution_count": 49,
     "metadata": {},
     "output_type": "execute_result"
    }
   ],
   "source": [
    "gt.graph.node[1]"
   ]
  }
 ],
 "metadata": {
  "kernelspec": {
   "display_name": "Python 3",
   "language": "python",
   "name": "python3"
  },
  "language_info": {
   "codemirror_mode": {
    "name": "ipython",
    "version": 3
   },
   "file_extension": ".py",
   "mimetype": "text/x-python",
   "name": "python",
   "nbconvert_exporter": "python",
   "pygments_lexer": "ipython3",
   "version": "3.7.5"
  }
 },
 "nbformat": 4,
 "nbformat_minor": 5
}