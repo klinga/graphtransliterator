{
 "cells": [
  {
   "cell_type": "code",
   "execution_count": 1,
   "id": "724ee406",
   "metadata": {},
   "outputs": [
    {
     "data": {
      "text/plain": [
       "'A'"
      ]
     },
     "execution_count": 1,
     "metadata": {},
     "output_type": "execute_result"
    }
   ],
   "source": [
    "from graphtransliterator import GraphTransliterator, OnMatchRule, TransliterationRule, WhitespaceRules\n",
    "settings = {'tokens': {'a': {'vowel'}, ' ': {'wb'}}, 'onmatch_rules': [OnMatchRule(prev_classes=['vowel'], next_classes=['vowel'], production=',')], 'rules': [TransliterationRule(production='A', prev_classes=None, prev_tokens=None, tokens=['a'], next_tokens=None, next_classes=None, cost=0.5849625007211562), TransliterationRule(production=' ', prev_classes=None, prev_tokens=None, tokens=[' '], next_tokens=None, next_classes=None, cost=0.5849625007211562)], 'metadata': {'author': 'Author McAuthorson'}, 'whitespace': WhitespaceRules(default=' ', token_class='wb', consolidate=False)}\n",
    "gt = GraphTransliterator(**settings)\n",
    "gt.transliterate('a')"
   ]
  },
  {
   "cell_type": "code",
   "execution_count": 2,
   "id": "095bcfdc",
   "metadata": {},
   "outputs": [
    {
     "data": {
      "text/plain": [
       "OrderedDict([('tokens', {'a': ['vowel'], ' ': ['wb']}),\n",
       "             ('rules',\n",
       "              [OrderedDict([('production', 'A'),\n",
       "                            ('tokens', ['a']),\n",
       "                            ('cost', 0.5849625007211562)]),\n",
       "               OrderedDict([('production', ' '),\n",
       "                            ('tokens', [' ']),\n",
       "                            ('cost', 0.5849625007211562)])]),\n",
       "             ('whitespace',\n",
       "              {'token_class': 'wb', 'default': ' ', 'consolidate': False}),\n",
       "             ('onmatch_rules',\n",
       "              [OrderedDict([('prev_classes', ['vowel']),\n",
       "                            ('next_classes', ['vowel']),\n",
       "                            ('production', ',')])]),\n",
       "             ('metadata', {'author': 'Author McAuthorson'}),\n",
       "             ('ignore_errors', False),\n",
       "             ('onmatch_rules_lookup', {'a': {'a': [0]}}),\n",
       "             ('tokens_by_class', {'vowel': ['a'], 'wb': [' ']}),\n",
       "             ('graph',\n",
       "              {'node': [{'ordered_children': {'a': [1], ' ': [3]},\n",
       "                 'type': 'Start'},\n",
       "                {'token': 'a',\n",
       "                 'ordered_children': {'__rules__': [2]},\n",
       "                 'type': 'token'},\n",
       "                {'type': 'rule', 'rule_key': 0, 'accepting': True},\n",
       "                {'token': ' ',\n",
       "                 'ordered_children': {'__rules__': [4]},\n",
       "                 'type': 'token'},\n",
       "                {'type': 'rule', 'rule_key': 1, 'accepting': True}],\n",
       "               'edge_list': [(0, 1), (0, 3), (1, 2), (3, 4)],\n",
       "               'edge': {0: {1: {'cost': 0.5849625007211562, 'token': 'a'},\n",
       "                 3: {'cost': 0.5849625007211562, 'token': ' '}},\n",
       "                1: {2: {'cost': 0.5849625007211562}},\n",
       "                3: {4: {'cost': 0.5849625007211562}}}}),\n",
       "             ('tokenizer_pattern', '(a|\\\\ )'),\n",
       "             ('graphtransliterator_version', '1.2.0')])"
      ]
     },
     "execution_count": 2,
     "metadata": {},
     "output_type": "execute_result"
    }
   ],
   "source": [
    "yaml_ = '''\n",
    "tokens:\n",
    "  a: [vowel]\n",
    "  ' ': [wb]\n",
    "rules:\n",
    "  a: A\n",
    "  ' ': ' '\n",
    "whitespace:\n",
    "  default: \" \"\n",
    "  consolidate: false\n",
    "  token_class: wb\n",
    "onmatch_rules:\n",
    "  - <vowel> + <vowel>: ','  # add a comma between vowels\n",
    "metadata:\n",
    "  author: \"Author McAuthorson\"\n",
    "'''\n",
    "gt = GraphTransliterator.from_yaml(yaml_)\n",
    "gt.dump()"
   ]
  },
  {
   "cell_type": "code",
   "execution_count": 3,
   "id": "990d3405",
   "metadata": {},
   "outputs": [
    {
     "data": {
      "text/plain": [
       "'{\"graphtransliterator_version\":\"1.2.0\",\"compressed_settings\":[[\"vowel\",\"wb\"],[\" \",\"a\"],[[1],[0]],[[\"A\",0,0,[1],0,0,-1],[\" \",0,0,[0],0,0,-1]],[\" \",\"wb\",0],[[[0],[0],\",\"]],{\"author\":\"Author McAuthorson\"},null]}'"
      ]
     },
     "execution_count": 3,
     "metadata": {},
     "output_type": "execute_result"
    }
   ],
   "source": [
    "yaml_ = '''\n",
    "  tokens:\n",
    "    a: [vowel]\n",
    "    ' ': [wb]\n",
    "  rules:\n",
    "    a: A\n",
    "    ' ': ' '\n",
    "  whitespace:\n",
    "    default: \" \"\n",
    "    consolidate: false\n",
    "    token_class: wb\n",
    "  onmatch_rules:\n",
    "    - <vowel> + <vowel>: ','  # add a comma between vowels\n",
    "  metadata:\n",
    "    author: \"Author McAuthorson\"\n",
    "'''\n",
    "gt = GraphTransliterator.from_yaml(yaml_)\n",
    "gt.dumps()"
   ]
  },
  {
   "cell_type": "code",
   "execution_count": 4,
   "id": "9ae30994",
   "metadata": {},
   "outputs": [
    {
     "data": {
      "text/plain": [
       "'AB_AB,AB'"
      ]
     },
     "execution_count": 4,
     "metadata": {},
     "output_type": "execute_result"
    }
   ],
   "source": [
    "tokens = {\n",
    "    'ab': ['class_ab'],\n",
    "    ' ': ['wb']\n",
    "}\n",
    "whitespace = {\n",
    "    'default': ' ',\n",
    "    'token_class': 'wb',\n",
    "    'consolidate': True\n",
    "}\n",
    "onmatch_rules = [\n",
    "    {'<class_ab> + <class_ab>': ','}\n",
    "]\n",
    "rules = {'ab': 'AB',\n",
    "         ' ': '_'}\n",
    "settings = {'tokens': tokens,\n",
    "            'rules': rules,\n",
    "            'whitespace': whitespace,\n",
    "            'onmatch_rules': onmatch_rules}\n",
    "gt = GraphTransliterator.from_easyreading_dict(settings)\n",
    "gt.transliterate(\"ab abab\")"
   ]
  },
  {
   "cell_type": "code",
   "execution_count": 5,
   "id": "e01793b6",
   "metadata": {},
   "outputs": [
    {
     "data": {
      "text/plain": [
       "'A A+A'"
      ]
     },
     "execution_count": 5,
     "metadata": {},
     "output_type": "execute_result"
    }
   ],
   "source": [
    "yaml_ = '''\n",
    "tokens:\n",
    "  a: [class1]\n",
    "  ' ': [wb]\n",
    "rules:\n",
    "  a: A\n",
    "  ' ': ' '\n",
    "whitespace:\n",
    "  default: ' '\n",
    "  consolidate: True\n",
    "  token_class: wb\n",
    "onmatch_rules:\n",
    "  - <class1> + <class1>: \"+\"\n",
    "'''\n",
    "gt = GraphTransliterator.from_yaml(yaml_)\n",
    "gt.transliterate(\"a aa\")"
   ]
  },
  {
   "cell_type": "code",
   "execution_count": 6,
   "id": "9f5dbb69",
   "metadata": {},
   "outputs": [
    {
     "data": {
      "text/plain": [
       "'A,A'"
      ]
     },
     "execution_count": 6,
     "metadata": {},
     "output_type": "execute_result"
    }
   ],
   "source": [
    "from collections import OrderedDict\n",
    "settings =           {'tokens': {'a': ['vowel'], ' ': ['wb']},\n",
    " 'rules': [OrderedDict([('production', 'A'),\n",
    "               # Can be compacted, removing None values\n",
    "               # ('prev_tokens', None),\n",
    "               ('tokens', ['a']),\n",
    "               ('next_classes', None),\n",
    "               ('next_tokens', None),\n",
    "               ('cost', 0.5849625007211562)]),\n",
    "  OrderedDict([('production', ' '),\n",
    "               ('prev_classes', None),\n",
    "               ('prev_tokens', None),\n",
    "               ('tokens', [' ']),\n",
    "               ('next_classes', None),\n",
    "               ('next_tokens', None),\n",
    "               ('cost', 0.5849625007211562)])],\n",
    " 'whitespace': {'default': ' ', 'token_class': 'wb', 'consolidate': False},\n",
    " 'onmatch_rules': [OrderedDict([('prev_classes', ['vowel']),\n",
    "               ('next_classes', ['vowel']),\n",
    "               ('production', ',')])],\n",
    " 'metadata': {'author': 'Author McAuthorson'},\n",
    " 'onmatch_rules_lookup': {'a': {'a': [0]}},\n",
    " 'tokens_by_class': {'vowel': ['a'], 'wb': [' ']},\n",
    " 'graph': {'edge': {0: {1: {'token': 'a', 'cost': 0.5849625007211562},\n",
    "    3: {'token': ' ', 'cost': 0.5849625007211562}},\n",
    "   1: {2: {'cost': 0.5849625007211562}},\n",
    "   3: {4: {'cost': 0.5849625007211562}}},\n",
    "  'node': [{'type': 'Start', 'ordered_children': {'a': [1], ' ': [3]}},\n",
    "   {'type': 'token', 'token': 'a', 'ordered_children': {'__rules__': [2]}},\n",
    "   {'type': 'rule',\n",
    "    'rule_key': 0,\n",
    "    'accepting': True,\n",
    "    'ordered_children': {}},\n",
    "   {'type': 'token', 'token': ' ', 'ordered_children': {'__rules__': [4]}},\n",
    "   {'type': 'rule',\n",
    "    'rule_key': 1,\n",
    "    'accepting': True,\n",
    "    'ordered_children': {}}],\n",
    "  'edge_list': [(0, 1), (1, 2), (0, 3), (3, 4)]},\n",
    " 'tokenizer_pattern': '(a|\\ )',\n",
    " 'graphtransliterator_version': '0.3.3'}\n",
    "gt = GraphTransliterator.load(settings)\n",
    "gt.transliterate('aa')"
   ]
  },
  {
   "cell_type": "code",
   "execution_count": 7,
   "id": "44c9bcae",
   "metadata": {},
   "outputs": [
    {
     "data": {
      "text/plain": [
       "'A,A'"
      ]
     },
     "execution_count": 7,
     "metadata": {},
     "output_type": "execute_result"
    }
   ],
   "source": [
    "# can be compacted\n",
    "settings.pop('onmatch_rules_lookup')\n",
    "GraphTransliterator.load(settings).transliterate('aa')"
   ]
  },
  {
   "cell_type": "code",
   "execution_count": 8,
   "id": "dfcf1b7b",
   "metadata": {},
   "outputs": [
    {
     "data": {
      "text/plain": [
       "'A'"
      ]
     },
     "execution_count": 8,
     "metadata": {},
     "output_type": "execute_result"
    }
   ],
   "source": [
    "JSON_settings = '''{\"tokens\": {\"a\": [\"vowel\"], \" \": [\"wb\"]}, \"rules\": [{\"production\": \"A\", \"prev_classes\": null, \"prev_tokens\": null, \"tokens\": [\"a\"], \"next_classes\": null, \"next_tokens\": null, \"cost\": 0.5849625007211562}, {\"production\": \" \", \"prev_classes\": null, \"prev_tokens\": null, \"tokens\": [\" \"], \"next_classes\": null, \"next_tokens\": null, \"cost\": 0.5849625007211562}], \"whitespace\": {\"default\": \" \", \"token_class\": \"wb\", \"consolidate\": false}, \"onmatch_rules\": [{\"prev_classes\": [\"vowel\"], \"next_classes\": [\"vowel\"], \"production\": \",\"}], \"metadata\": {\"author\": \"Author McAuthorson\"}, \"ignore_errors\": false, \"onmatch_rules_lookup\": {\"a\": {\"a\": [0]}}, \"tokens_by_class\": {\"vowel\": [\"a\"], \"wb\": [\" \"]}, \"graph\": {\"node\": [{\"type\": \"Start\", \"ordered_children\": {\"a\": [1], \" \": [3]}}, {\"type\": \"token\", \"token\": \"a\", \"ordered_children\": {\"__rules__\": [2]}}, {\"type\": \"rule\", \"rule_key\": 0, \"accepting\": true, \"ordered_children\": {}}, {\"type\": \"token\", \"token\": \" \", \"ordered_children\": {\"__rules__\": [4]}}, {\"type\": \"rule\", \"rule_key\": 1, \"accepting\": true, \"ordered_children\": {}}], \"edge\": {\"0\": {\"1\": {\"token\": \"a\", \"cost\": 0.5849625007211562}, \"3\": {\"token\": \" \", \"cost\": 0.5849625007211562}}, \"1\": {\"2\": {\"cost\": 0.5849625007211562}}, \"3\": {\"4\": {\"cost\": 0.5849625007211562}}}, \"edge_list\": [[0, 1], [1, 2], [0, 3], [3, 4]]}, \"tokenizer_pattern\": \"(a| )\", \"graphtransliterator_version\": \"1.2.0\"}'''\n",
    "\n",
    "gt = GraphTransliterator.loads(JSON_settings)\n",
    "gt.transliterate('a')"
   ]
  },
  {
   "cell_type": "code",
   "execution_count": 9,
   "id": "c230e02d",
   "metadata": {},
   "outputs": [
    {
     "data": {
      "text/plain": [
       "[' ', 'a', 'a', ' ']"
      ]
     },
     "execution_count": 9,
     "metadata": {},
     "output_type": "execute_result"
    }
   ],
   "source": [
    "gt = GraphTransliterator.from_yaml('''\n",
    "        tokens:\n",
    "            a: []\n",
    "            a a: []\n",
    "            ' ': [wb]\n",
    "        rules:\n",
    "            a: <A>\n",
    "            a a: <AA>\n",
    "        whitespace:\n",
    "            default: ' '\n",
    "            consolidate: True\n",
    "            token_class: wb\n",
    "''')\n",
    "tokens = gt.tokenize(\"aa\")\n",
    "tokens # whitespace added to ends"
   ]
  },
  {
   "cell_type": "code",
   "execution_count": 10,
   "id": "6a6dfa4f",
   "metadata": {},
   "outputs": [
    {
     "data": {
      "text/plain": [
       "0"
      ]
     },
     "execution_count": 10,
     "metadata": {},
     "output_type": "execute_result"
    }
   ],
   "source": [
    "gt.match_at(1, tokens) # returns index to rule"
   ]
  },
  {
   "cell_type": "code",
   "execution_count": 11,
   "id": "6440f96f",
   "metadata": {},
   "outputs": [
    {
     "data": {
      "text/plain": [
       "TransliterationRule(production='<AA>', prev_classes=None, prev_tokens=None, tokens=['a', 'a'], next_tokens=None, next_classes=None, cost=0.41503749927884376)"
      ]
     },
     "execution_count": 11,
     "metadata": {},
     "output_type": "execute_result"
    }
   ],
   "source": [
    "gt.rules[gt.match_at(1, tokens)] # actual rule"
   ]
  },
  {
   "cell_type": "code",
   "execution_count": 12,
   "id": "07668988",
   "metadata": {},
   "outputs": [
    {
     "data": {
      "text/plain": [
       "[0, 1]"
      ]
     },
     "execution_count": 12,
     "metadata": {},
     "output_type": "execute_result"
    }
   ],
   "source": [
    "gt.match_at(1, tokens, match_all=True) # index to rules, with match_all"
   ]
  },
  {
   "cell_type": "code",
   "execution_count": 13,
   "id": "d9cc5087",
   "metadata": {},
   "outputs": [
    {
     "data": {
      "text/plain": [
       "[TransliterationRule(production='<AA>', prev_classes=None, prev_tokens=None, tokens=['a', 'a'], next_tokens=None, next_classes=None, cost=0.41503749927884376),\n",
       " TransliterationRule(production='<A>', prev_classes=None, prev_tokens=None, tokens=['a'], next_tokens=None, next_classes=None, cost=0.5849625007211562)]"
      ]
     },
     "execution_count": 13,
     "metadata": {},
     "output_type": "execute_result"
    }
   ],
   "source": [
    "[gt.rules[_] for _ in gt.match_at(1, tokens, match_all=True)]"
   ]
  },
  {
   "cell_type": "code",
   "execution_count": 14,
   "id": "c1608612",
   "metadata": {},
   "outputs": [
    {
     "data": {
      "text/plain": [
       "[TransliterationRule(production='<AA>', prev_classes=None, prev_tokens=None, tokens=['a', 'a'], next_tokens=None, next_classes=None, cost=0.41503749927884376),\n",
       " TransliterationRule(production='<A>', prev_classes=None, prev_tokens=None, tokens=['a'], next_tokens=None, next_classes=None, cost=0.5849625007211562)]"
      ]
     },
     "execution_count": 14,
     "metadata": {},
     "output_type": "execute_result"
    }
   ],
   "source": [
    "gt = GraphTransliterator.from_yaml('''\n",
    "        tokens:\n",
    "            a: []\n",
    "            a a: []\n",
    "            ' ': [wb]\n",
    "        rules:\n",
    "            a: <A>\n",
    "            a a: <AA>\n",
    "        whitespace:\n",
    "            default: ' '\n",
    "            consolidate: True\n",
    "            token_class: wb\n",
    "''')\n",
    "gt.rules"
   ]
  },
  {
   "cell_type": "code",
   "execution_count": 15,
   "id": "d74f9d2e",
   "metadata": {},
   "outputs": [
    {
     "data": {
      "text/plain": [
       "[TransliterationRule(production='<A>', prev_classes=None, prev_tokens=None, tokens=['a'], next_tokens=None, next_classes=None, cost=0.5849625007211562)]"
      ]
     },
     "execution_count": 15,
     "metadata": {},
     "output_type": "execute_result"
    }
   ],
   "source": [
    "gt.pruned_of('<AA>').rules"
   ]
  },
  {
   "cell_type": "code",
   "execution_count": 16,
   "id": "43b2deb6",
   "metadata": {},
   "outputs": [
    {
     "data": {
      "text/plain": [
       "[]"
      ]
     },
     "execution_count": 16,
     "metadata": {},
     "output_type": "execute_result"
    }
   ],
   "source": [
    "gt.pruned_of(['<A>', '<AA>']).rules"
   ]
  },
  {
   "cell_type": "code",
   "execution_count": 17,
   "id": "3cc5d0d7",
   "metadata": {},
   "outputs": [
    {
     "data": {
      "text/plain": [
       "[' ', 'ab', ' ']"
      ]
     },
     "execution_count": 17,
     "metadata": {},
     "output_type": "execute_result"
    }
   ],
   "source": [
    "tokens = {'ab': ['class_ab'], ' ': ['wb']}\n",
    "whitespace = {'default': ' ', 'token_class': 'wb', 'consolidate': True}\n",
    "rules = {'ab': 'AB', ' ': '_'}\n",
    "settings = {'tokens': tokens, 'rules': rules, 'whitespace': whitespace}\n",
    "gt = GraphTransliterator.from_easyreading_dict(settings)\n",
    "gt.tokenize('ab ')"
   ]
  },
  {
   "cell_type": "code",
   "execution_count": 18,
   "id": "b317f8e5",
   "metadata": {},
   "outputs": [
    {
     "data": {
      "text/plain": [
       "'A_A'"
      ]
     },
     "execution_count": 18,
     "metadata": {},
     "output_type": "execute_result"
    }
   ],
   "source": [
    "GraphTransliterator.from_yaml(\n",
    "'''\n",
    "tokens:\n",
    "  a: []\n",
    "  ' ': [wb]\n",
    "rules:\n",
    "  a: A\n",
    "  ' ': '_'\n",
    "whitespace:\n",
    "  default: ' '\n",
    "  consolidate: True\n",
    "  token_class: wb\n",
    "''').transliterate(\"a a\")"
   ]
  },
  {
   "cell_type": "code",
   "execution_count": 19,
   "id": "fb61a431",
   "metadata": {},
   "outputs": [
    {
     "data": {
      "text/plain": [
       "<graphtransliterator.graphs.DirectedGraph at 0x1058552d0>"
      ]
     },
     "execution_count": 19,
     "metadata": {},
     "output_type": "execute_result"
    }
   ],
   "source": [
    "from graphtransliterator import DirectedGraph\n",
    "DirectedGraph()"
   ]
  },
  {
   "cell_type": "code",
   "execution_count": 20,
   "id": "406471be",
   "metadata": {},
   "outputs": [
    {
     "data": {
      "text/plain": [
       "(0, {})"
      ]
     },
     "execution_count": 20,
     "metadata": {},
     "output_type": "execute_result"
    }
   ],
   "source": [
    "g = DirectedGraph()\n",
    "g.add_node()"
   ]
  },
  {
   "cell_type": "code",
   "execution_count": 21,
   "id": "ac6d19e5",
   "metadata": {},
   "outputs": [
    {
     "data": {
      "text/plain": [
       "(1, {})"
      ]
     },
     "execution_count": 21,
     "metadata": {},
     "output_type": "execute_result"
    }
   ],
   "source": [
    "g.add_node()"
   ]
  },
  {
   "cell_type": "code",
   "execution_count": 22,
   "id": "9054d978",
   "metadata": {},
   "outputs": [
    {
     "data": {
      "text/plain": [
       "{'data_key_1': 'some edge data here'}"
      ]
     },
     "execution_count": 22,
     "metadata": {},
     "output_type": "execute_result"
    }
   ],
   "source": [
    "g.add_edge(0,1, {'data_key_1': 'some edge data here'})"
   ]
  },
  {
   "cell_type": "code",
   "execution_count": 23,
   "id": "dd644cad",
   "metadata": {},
   "outputs": [
    {
     "data": {
      "text/plain": [
       "{0: {1: {'data_key_1': 'some edge data here'}}}"
      ]
     },
     "execution_count": 23,
     "metadata": {},
     "output_type": "execute_result"
    }
   ],
   "source": [
    "g.edge"
   ]
  },
  {
   "cell_type": "code",
   "execution_count": 24,
   "id": "11e5dbb2",
   "metadata": {},
   "outputs": [
    {
     "data": {
      "text/plain": [
       "(0, {})"
      ]
     },
     "execution_count": 24,
     "metadata": {},
     "output_type": "execute_result"
    }
   ],
   "source": [
    "g = DirectedGraph()\n",
    "g.add_node()"
   ]
  },
  {
   "cell_type": "code",
   "execution_count": 25,
   "id": "bacf78cd",
   "metadata": {},
   "outputs": [
    {
     "data": {
      "text/plain": [
       "(1, {'datakey1': 'data value'})"
      ]
     },
     "execution_count": 25,
     "metadata": {},
     "output_type": "execute_result"
    }
   ],
   "source": [
    "g.add_node({'datakey1': 'data value'})"
   ]
  },
  {
   "cell_type": "code",
   "execution_count": 26,
   "id": "350dc8b0",
   "metadata": {},
   "outputs": [
    {
     "data": {
      "text/plain": [
       "[{}, {'datakey1': 'data value'}]"
      ]
     },
     "execution_count": 26,
     "metadata": {},
     "output_type": "execute_result"
    }
   ],
   "source": [
    "g.node"
   ]
  }
 ],
 "metadata": {
  "kernelspec": {
   "display_name": "Python 3",
   "language": "python",
   "name": "python3"
  },
  "language_info": {
   "codemirror_mode": {
    "name": "ipython",
    "version": 3
   },
   "file_extension": ".py",
   "mimetype": "text/x-python",
   "name": "python",
   "nbconvert_exporter": "python",
   "pygments_lexer": "ipython3",
   "version": "3.7.5"
  }
 },
 "nbformat": 4,
 "nbformat_minor": 5
}