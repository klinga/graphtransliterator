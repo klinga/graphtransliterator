{
 "cells": [
  {
   "cell_type": "code",
   "execution_count": 1,
   "id": "ade3f197",
   "metadata": {},
   "outputs": [
    {
     "data": {
      "text/plain": [
       "'A'"
      ]
     },
     "execution_count": 1,
     "metadata": {},
     "output_type": "execute_result"
    }
   ],
   "source": [
    "import graphtransliterator.transliterators as transliterators\n",
    "example_transliterator = transliterators.Example()\n",
    "example_transliterator.transliterate('a')"
   ]
  },
  {
   "cell_type": "code",
   "execution_count": 2,
   "id": "2b6cdf73",
   "metadata": {},
   "outputs": [
    {
     "data": {
      "text/plain": [
       "<example.Example at 0x1059ca610>"
      ]
     },
     "execution_count": 2,
     "metadata": {},
     "output_type": "execute_result"
    }
   ],
   "source": [
    "bundled_iterator = transliterators.iter_transliterators()\n",
    "next(bundled_iterator)"
   ]
  },
  {
   "cell_type": "code",
   "execution_count": 3,
   "id": "e36a019d",
   "metadata": {},
   "outputs": [
    {
     "data": {
      "text/plain": [
       "'Example'"
      ]
     },
     "execution_count": 3,
     "metadata": {},
     "output_type": "execute_result"
    }
   ],
   "source": [
    "bundled_names_iterator = transliterators.iter_names()\n",
    "next(bundled_names_iterator)"
   ]
  },
  {
   "cell_type": "code",
   "execution_count": 4,
   "id": "ef4e79c2",
   "metadata": {},
   "outputs": [],
   "source": [
    "from graphtransliterator.transliterators import Example"
   ]
  },
  {
   "cell_type": "code",
   "execution_count": 5,
   "id": "f27523bb",
   "metadata": {},
   "outputs": [
    {
     "data": {
      "text/plain": [
       "'/Users/seanpue/newerx/graphtransliterator/graphtransliterator/transliterators/example'"
      ]
     },
     "execution_count": 5,
     "metadata": {},
     "output_type": "execute_result"
    }
   ],
   "source": [
    "transliterator = Example()\n",
    "transliterator.directory"
   ]
  },
  {
   "cell_type": "code",
   "execution_count": 6,
   "id": "e37cc667",
   "metadata": {},
   "outputs": [
    {
     "name": "stdout",
     "output_type": "stream",
     "text": [
      "{'author': 'Author McAuthorson',\n",
      " 'author_email': 'author_mcauthorson@msu.edu',\n",
      " 'description': 'An Example Bundled Transliterator',\n",
      " 'keywords': ['example'],\n",
      " 'license': 'MIT License',\n",
      " 'name': 'example',\n",
      " 'project_urls': {'Documentation': 'https://github.com/seanpue/graphtransliterator/tree/master/graphtransliterator/transliterators/example',\n",
      "                  'Source': 'https://github.com/seanpue/graphtransliterator/tree/graphtransliterator/transliterators/example',\n",
      "                  'Tracker': 'https://github.com/seanpue/graphtransliterator/issues'},\n",
      " 'url': 'https://github.com/seanpue/graphtransliterator/tree/master/transliterator/sample',\n",
      " 'version': '1.0.0'}\n"
     ]
    }
   ],
   "source": [
    "import pprint\n",
    "transliterator = next(transliterators.iter_transliterators())\n",
    "pprint.pprint(transliterator.metadata)"
   ]
  }
 ],
 "metadata": {
  "kernelspec": {
   "display_name": "Python 3",
   "language": "python",
   "name": "python3"
  },
  "language_info": {
   "codemirror_mode": {
    "name": "ipython",
    "version": 3
   },
   "file_extension": ".py",
   "mimetype": "text/x-python",
   "name": "python",
   "nbconvert_exporter": "python",
   "pygments_lexer": "ipython3",
   "version": "3.7.5"
  }
 },
 "nbformat": 4,
 "nbformat_minor": 5
}