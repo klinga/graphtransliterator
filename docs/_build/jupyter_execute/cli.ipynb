{
 "cells": [
  {
   "cell_type": "code",
   "execution_count": 1,
   "id": "12078fd4",
   "metadata": {},
   "outputs": [],
   "source": [
    "import graphtransliterator\n",
    "import graphtransliterator.cli as cli\n",
    "from click.testing import CliRunner\n",
    "runner = CliRunner()\n",
    "def run(func, parameters):\n",
    "  print(runner.invoke(func, parameters).output)"
   ]
  },
  {
   "cell_type": "code",
   "execution_count": 2,
   "id": "d6ddbaa1",
   "metadata": {},
   "outputs": [
    {
     "name": "stdout",
     "output_type": "stream",
     "text": [
      "Usage: main [OPTIONS] COMMAND [ARGS]...\n",
      "\n",
      "Options:\n",
      "  --version  Show the version and exit.\n",
      "  --help     Show this message and exit.\n",
      "\n",
      "Commands:\n",
      "  dump            Dump transliterator as JSON.\n",
      "  dump-tests      Dump BUNDLED tests.\n",
      "  generate-tests  Generate tests as YAML.\n",
      "  list-bundled    List BUNDLED transliterators.\n",
      "  make-json       Make JSON rules of BUNDLED transliterator(s).\n",
      "  test            Test BUNDLED transliterator.\n",
      "  transliterate   Transliterate INPUT.\n",
      "\n"
     ]
    }
   ],
   "source": [
    "run(cli.main, ['--help'])"
   ]
  },
  {
   "cell_type": "code",
   "execution_count": 3,
   "id": "1fa0be14",
   "metadata": {},
   "outputs": [
    {
     "name": "stdout",
     "output_type": "stream",
     "text": [
      "Usage: dump [OPTIONS]\n",
      "\n",
      "  Dump transliterator as JSON.\n",
      "\n",
      "Options:\n",
      "  -f, --from <CHOICE TEXT>...     Format (bundled/yaml_file) and source (name or\n",
      "                                  filename) of transliterator  [required]\n",
      "\n",
      "  -ca, --check-ambiguity / -nca, --no-check-ambiguity\n",
      "                                  Check for ambiguity.  [default: False]\n",
      "  -cl, --compression-level INTEGER\n",
      "                                  Compression level, from 0 to 2  [default: 2]\n",
      "  --help                          Show this message and exit.\n",
      "\n"
     ]
    }
   ],
   "source": [
    "run(cli.dump, ['--help'])"
   ]
  },
  {
   "cell_type": "code",
   "execution_count": 4,
   "id": "d7ce76a4",
   "metadata": {},
   "outputs": [
    {
     "name": "stdout",
     "output_type": "stream",
     "text": [
      "{\"graphtransliterator_version\":\"1.2.0\",\"compressed_settings\":[[\"consonant\",\"vowel\",\"whitespace\"],[\" \",\"a\",\"b\"],[[2],[1],[0]],[[\"!B!\",[0],[1],[2],[1],[0],-5],[\"A\",0,0,[1],0,0,-1],[\"B\",0,0,[2],0,0,-1],[\" \",0,0,[0],0,0,-1]],[\" \",\"whitespace\",0],[[[1],[1],\",\"]],{\"name\":\"example\",\"version\":\"1.0.0\",\"description\":\"An Example Bundled Transliterator\",\"url\":\"https://github.com/seanpue/graphtransliterator/tree/master/transliterator/sample\",\"author\":\"Author McAuthorson\",\"author_email\":\"author_mcauthorson@msu.edu\",\"license\":\"MIT License\",\"keywords\":[\"example\"],\"project_urls\":{\"Documentation\":\"https://github.com/seanpue/graphtransliterator/tree/master/graphtransliterator/transliterators/example\",\"Source\":\"https://github.com/seanpue/graphtransliterator/tree/graphtransliterator/transliterators/example\",\"Tracker\":\"https://github.com/seanpue/graphtransliterator/issues\"}},null]}\n",
      "\n"
     ]
    }
   ],
   "source": [
    "run(cli.dump, ['--from', 'bundled', 'Example'])"
   ]
  },
  {
   "cell_type": "code",
   "execution_count": 5,
   "id": "897633d3",
   "metadata": {},
   "outputs": [
    {
     "name": "stdout",
     "output_type": "stream",
     "text": [
      "{\"graphtransliterator_version\":\"1.2.0\",\"compressed_settings\":[[\"consonant\",\"vowel\",\"whitespace\"],[\" \",\"a\",\"b\"],[[2],[1],[0]],[[\"!B!\",[0],[1],[2],[1],[0],-5],[\"A\",0,0,[1],0,0,-1],[\"B\",0,0,[2],0,0,-1],[\" \",0,0,[0],0,0,-1]],[\" \",\"whitespace\",0],[[[1],[1],\",\"]],{\"name\":\"example\",\"version\":\"1.0.0\",\"description\":\"An Example Bundled Transliterator\",\"url\":\"https://github.com/seanpue/graphtransliterator/tree/master/transliterator/sample\",\"author\":\"Author McAuthorson\",\"author_email\":\"author_mcauthorson@msu.edu\",\"license\":\"MIT License\",\"keywords\":[\"example\"],\"project_urls\":{\"Documentation\":\"https://github.com/seanpue/graphtransliterator/tree/master/graphtransliterator/transliterators/example\",\"Source\":\"https://github.com/seanpue/graphtransliterator/tree/graphtransliterator/transliterators/example\",\"Tracker\":\"https://github.com/seanpue/graphtransliterator/issues\"}},null]}\n",
      "\n"
     ]
    }
   ],
   "source": [
    "run(cli.dump, ['--from', 'yaml_file', '../graphtransliterator/transliterators/example/example.yaml'])"
   ]
  },
  {
   "cell_type": "code",
   "execution_count": 6,
   "id": "eaa81759",
   "metadata": {},
   "outputs": [
    {
     "name": "stdout",
     "output_type": "stream",
     "text": [
      "{\"graphtransliterator_version\":\"1.2.0\",\"compressed_settings\":[[\"consonant\",\"vowel\",\"whitespace\"],[\" \",\"a\",\"b\"],[[2],[1],[0]],[[\"!B!\",[0],[1],[2],[1],[0],-5],[\"A\",0,0,[1],0,0,-1],[\"B\",0,0,[2],0,0,-1],[\" \",0,0,[0],0,0,-1]],[\" \",\"whitespace\",0],[[[1],[1],\",\"]],{\"name\":\"example\",\"version\":\"1.0.0\",\"description\":\"An Example Bundled Transliterator\",\"url\":\"https://github.com/seanpue/graphtransliterator/tree/master/transliterator/sample\",\"author\":\"Author McAuthorson\",\"author_email\":\"author_mcauthorson@msu.edu\",\"license\":\"MIT License\",\"keywords\":[\"example\"],\"project_urls\":{\"Documentation\":\"https://github.com/seanpue/graphtransliterator/tree/master/graphtransliterator/transliterators/example\",\"Source\":\"https://github.com/seanpue/graphtransliterator/tree/graphtransliterator/transliterators/example\",\"Tracker\":\"https://github.com/seanpue/graphtransliterator/issues\"}},null]}\n",
      "\n"
     ]
    }
   ],
   "source": [
    "run(cli.dump, ['--from', 'bundled', 'Example', '--check-ambiguity']) # not human readable, with graph"
   ]
  },
  {
   "cell_type": "code",
   "execution_count": 7,
   "id": "7d805108",
   "metadata": {},
   "outputs": [
    {
     "name": "stdout",
     "output_type": "stream",
     "text": [
      "{\"tokens\": {\"a\": [\"vowel\"], \" \": [\"whitespace\"], \"b\": [\"consonant\"]}, \"rules\": [{\"production\": \"!B!\", \"prev_classes\": [\"consonant\"], \"prev_tokens\": [\"a\"], \"tokens\": [\"b\"], \"next_classes\": [\"consonant\"], \"next_tokens\": [\"a\"], \"cost\": 0.22239242133644802}, {\"production\": \"A\", \"tokens\": [\"a\"], \"cost\": 0.5849625007211562}, {\"production\": \"B\", \"tokens\": [\"b\"], \"cost\": 0.5849625007211562}, {\"production\": \" \", \"tokens\": [\" \"], \"cost\": 0.5849625007211562}], \"whitespace\": {\"consolidate\": false, \"default\": \" \", \"token_class\": \"whitespace\"}, \"onmatch_rules\": [{\"prev_classes\": [\"vowel\"], \"next_classes\": [\"vowel\"], \"production\": \",\"}], \"metadata\": {\"name\": \"example\", \"version\": \"1.0.0\", \"description\": \"An Example Bundled Transliterator\", \"url\": \"https://github.com/seanpue/graphtransliterator/tree/master/transliterator/sample\", \"author\": \"Author McAuthorson\", \"author_email\": \"author_mcauthorson@msu.edu\", \"license\": \"MIT License\", \"keywords\": [\"example\"], \"project_urls\": {\"Documentation\": \"https://github.com/seanpue/graphtransliterator/tree/master/graphtransliterator/transliterators/example\", \"Source\": \"https://github.com/seanpue/graphtransliterator/tree/graphtransliterator/transliterators/example\", \"Tracker\": \"https://github.com/seanpue/graphtransliterator/issues\"}}, \"ignore_errors\": false, \"onmatch_rules_lookup\": {\"a\": {\"a\": [0]}}, \"tokens_by_class\": {\"vowel\": [\"a\"], \"whitespace\": [\" \"], \"consonant\": [\"b\"]}, \"graph\": {\"node\": [{\"type\": \"Start\", \"ordered_children\": {\"b\": [1], \"a\": [3], \" \": [6]}}, {\"type\": \"token\", \"token\": \"b\", \"ordered_children\": {\"__rules__\": [2, 5]}}, {\"rule_key\": 0, \"type\": \"rule\", \"accepting\": true}, {\"type\": \"token\", \"token\": \"a\", \"ordered_children\": {\"__rules__\": [4]}}, {\"rule_key\": 1, \"type\": \"rule\", \"accepting\": true}, {\"rule_key\": 2, \"type\": \"rule\", \"accepting\": true}, {\"type\": \"token\", \"token\": \" \", \"ordered_children\": {\"__rules__\": [7]}}, {\"rule_key\": 3, \"type\": \"rule\", \"accepting\": true}], \"edge_list\": [[0, 1], [0, 3], [0, 6], [1, 2], [1, 5], [3, 4], [6, 7]], \"edge\": {\"0\": {\"1\": {\"token\": \"b\", \"cost\": 0.22239242133644802}, \"3\": {\"token\": \"a\", \"cost\": 0.5849625007211562}, \"6\": {\"token\": \" \", \"cost\": 0.5849625007211562}}, \"1\": {\"2\": {\"cost\": 0.22239242133644802, \"constraints\": {\"prev_classes\": [\"consonant\"], \"next_tokens\": [\"a\"], \"prev_tokens\": [\"a\"], \"next_classes\": [\"consonant\"]}}, \"5\": {\"cost\": 0.5849625007211562}}, \"3\": {\"4\": {\"cost\": 0.5849625007211562}}, \"6\": {\"7\": {\"cost\": 0.5849625007211562}}}}, \"tokenizer_pattern\": \"(b|a|\\\\ )\", \"graphtransliterator_version\": \"1.2.0\"}\n",
      "\n"
     ]
    }
   ],
   "source": [
    "run(cli.dump, ['--from', 'bundled', 'Example', '--compression-level', '0'])"
   ]
  },
  {
   "cell_type": "code",
   "execution_count": 8,
   "id": "ca054f43",
   "metadata": {},
   "outputs": [
    {
     "name": "stdout",
     "output_type": "stream",
     "text": [
      "{\"graphtransliterator_version\":\"1.2.0\",\"compressed_settings\":[[\"consonant\",\"vowel\",\"whitespace\"],[\" \",\"a\",\"b\"],[[2],[1],[0]],[[\"!B!\",[0],[1],[2],[1],[0],-5],[\"A\",0,0,[1],0,0,-1],[\"B\",0,0,[2],0,0,-1],[\" \",0,0,[0],0,0,-1]],[\" \",\"whitespace\",0],[[[1],[1],\",\"]],{\"name\":\"example\",\"version\":\"1.0.0\",\"description\":\"An Example Bundled Transliterator\",\"url\":\"https://github.com/seanpue/graphtransliterator/tree/master/transliterator/sample\",\"author\":\"Author McAuthorson\",\"author_email\":\"author_mcauthorson@msu.edu\",\"license\":\"MIT License\",\"keywords\":[\"example\"],\"project_urls\":{\"Documentation\":\"https://github.com/seanpue/graphtransliterator/tree/master/graphtransliterator/transliterators/example\",\"Source\":\"https://github.com/seanpue/graphtransliterator/tree/graphtransliterator/transliterators/example\",\"Tracker\":\"https://github.com/seanpue/graphtransliterator/issues\"}},[[\"Start\",\"rule\",\"token\"],[[0,0,{\"2\":[1],\"1\":[3],\"0\":[6]}],[2,0,2,{\"-1\":[2,5]}],[1,1,0],[2,0,1,{\"-1\":[4]}],[1,1,1],[1,1,2],[2,0,0,{\"-1\":[7]}],[1,1,3]],{\"0\":{\"1\":[0,-5,2],\"3\":[0,-1,1],\"6\":[0,-1,0]},\"1\":{\"2\":[[[0],[1],[1],[0]],-5,-1],\"5\":[0,-1,-1]},\"3\":{\"4\":[0,-1,-1]},\"6\":{\"7\":[0,-1,-1]}}]]}\n",
      "\n"
     ]
    }
   ],
   "source": [
    "run(cli.dump, ['--from', 'bundled', 'Example', '--compression-level', '1'])"
   ]
  },
  {
   "cell_type": "code",
   "execution_count": 9,
   "id": "5c6f380e",
   "metadata": {},
   "outputs": [
    {
     "name": "stdout",
     "output_type": "stream",
     "text": [
      "{\"graphtransliterator_version\":\"1.2.0\",\"compressed_settings\":[[\"consonant\",\"vowel\",\"whitespace\"],[\" \",\"a\",\"b\"],[[2],[1],[0]],[[\"!B!\",[0],[1],[2],[1],[0],-5],[\"A\",0,0,[1],0,0,-1],[\"B\",0,0,[2],0,0,-1],[\" \",0,0,[0],0,0,-1]],[\" \",\"whitespace\",0],[[[1],[1],\",\"]],{\"name\":\"example\",\"version\":\"1.0.0\",\"description\":\"An Example Bundled Transliterator\",\"url\":\"https://github.com/seanpue/graphtransliterator/tree/master/transliterator/sample\",\"author\":\"Author McAuthorson\",\"author_email\":\"author_mcauthorson@msu.edu\",\"license\":\"MIT License\",\"keywords\":[\"example\"],\"project_urls\":{\"Documentation\":\"https://github.com/seanpue/graphtransliterator/tree/master/graphtransliterator/transliterators/example\",\"Source\":\"https://github.com/seanpue/graphtransliterator/tree/graphtransliterator/transliterators/example\",\"Tracker\":\"https://github.com/seanpue/graphtransliterator/issues\"}},null]}\n",
      "\n"
     ]
    }
   ],
   "source": [
    "run(cli.dump, ['--from', 'bundled', 'Example', '--compression-level', '2'])"
   ]
  },
  {
   "cell_type": "code",
   "execution_count": 10,
   "id": "7aff75b9",
   "metadata": {},
   "outputs": [
    {
     "name": "stdout",
     "output_type": "stream",
     "text": [
      "Usage: dump-tests [OPTIONS] BUNDLED\n",
      "\n",
      "  Dump BUNDLED tests.\n",
      "\n",
      "Options:\n",
      "  -t, --to [json|yaml]  Format (json/yaml) in which to dump  [default: yaml]\n",
      "  --help                Show this message and exit.\n",
      "\n"
     ]
    }
   ],
   "source": [
    "run(cli.dump_tests, ['--help'])"
   ]
  },
  {
   "cell_type": "code",
   "execution_count": 11,
   "id": "9ad3dc36",
   "metadata": {},
   "outputs": [
    {
     "name": "stdout",
     "output_type": "stream",
     "text": [
      "# YAML declaration of tests for bundled Graph Transliterator\n",
      "# These are in the form of a dictionary.\n",
      "# The key is the source text, and the value is the correct transliteration.\n",
      "' ': ' '\n",
      "a: A\n",
      "aa: A,A\n",
      "babab: BA!B!AB\n",
      "b: B\n",
      "\n",
      "\n"
     ]
    }
   ],
   "source": [
    "run(cli.dump_tests, ['Example'])"
   ]
  },
  {
   "cell_type": "code",
   "execution_count": 12,
   "id": "01162773",
   "metadata": {},
   "outputs": [
    {
     "name": "stdout",
     "output_type": "stream",
     "text": [
      "{\" \": \" \", \"a\": \"A\", \"aa\": \"A,A\", \"babab\": \"BA!B!AB\", \"b\": \"B\"}\n",
      "\n"
     ]
    }
   ],
   "source": [
    "run(cli.dump_tests, ['--to', 'json', 'Example'])"
   ]
  },
  {
   "cell_type": "code",
   "execution_count": 13,
   "id": "713a29e9",
   "metadata": {},
   "outputs": [
    {
     "name": "stdout",
     "output_type": "stream",
     "text": [
      "Usage: generate-tests [OPTIONS]\n",
      "\n",
      "  Generate tests as YAML.\n",
      "\n",
      "Options:\n",
      "  -f, --from <CHOICE TEXT>...     Format (bundled/json/json_file/yaml_file) and\n",
      "                                  source (name, JSON, or filename) of\n",
      "                                  transliterator  [required]\n",
      "\n",
      "  -ca, --check-ambiguity / -nca, --no-check-ambiguity\n",
      "                                  Check for ambiguity.  [default: False]\n",
      "  --help                          Show this message and exit.\n"
     ]
    },
    {
     "name": "stdout",
     "output_type": "stream",
     "text": [
      "\n"
     ]
    }
   ],
   "source": [
    "run(cli.generate_tests, ['--help'])"
   ]
  },
  {
   "cell_type": "code",
   "execution_count": 14,
   "id": "486d6b8f",
   "metadata": {},
   "outputs": [
    {
     "name": "stdout",
     "output_type": "stream",
     "text": [
      "' ': ' '\n",
      "a: A\n",
      "aa: A,A\n",
      "b: B\n",
      "babab: BA!B!AB\n",
      "\n",
      "\n"
     ]
    }
   ],
   "source": [
    "run(cli.generate_tests, ['--from', 'bundled', 'Example'])"
   ]
  },
  {
   "cell_type": "code",
   "execution_count": 15,
   "id": "228825d0",
   "metadata": {},
   "outputs": [
    {
     "name": "stdout",
     "output_type": "stream",
     "text": [
      "Usage: test [OPTIONS] BUNDLED\n",
      "\n",
      "  Test BUNDLED transliterator.\n",
      "\n",
      "Options:\n",
      "  -ca, --check-ambiguity / -nca, --no-check-ambiguity\n",
      "                                  Check for ambiguity.  [default: False]\n",
      "  --help                          Show this message and exit.\n",
      "\n"
     ]
    }
   ],
   "source": [
    "run(cli.test, ['--help'])"
   ]
  },
  {
   "cell_type": "code",
   "execution_count": 16,
   "id": "831a94fd",
   "metadata": {},
   "outputs": [
    {
     "name": "stdout",
     "output_type": "stream",
     "text": [
      "True\n"
     ]
    },
    {
     "name": "stdout",
     "output_type": "stream",
     "text": [
      "\n"
     ]
    }
   ],
   "source": [
    "run(cli.test, ['Example'])"
   ]
  },
  {
   "cell_type": "code",
   "execution_count": 17,
   "id": "d7fd5bdd",
   "metadata": {},
   "outputs": [
    {
     "name": "stdout",
     "output_type": "stream",
     "text": [
      "Usage: transliterate [OPTIONS] [INPUT]...\n",
      "\n",
      "  Transliterate INPUT.\n",
      "\n",
      "Options:\n",
      "  -f, --from <CHOICE TEXT>...     Format (bundled/json/json_file/yaml_file) and\n",
      "                                  source (name, JSON, or filename) of\n",
      "                                  transliterator  [required]\n",
      "\n",
      "  -t, --to [json|python]          Format in which to output  [default: python]\n",
      "  -ca, --check-ambiguity / -nca, --no-check-ambiguity\n",
      "                                  Check for ambiguity.  [default: False]\n",
      "  -ie, -nie, --ignore-errors / --no-ignore-errors\n",
      "                                  Ignore errors.  [default: False]\n",
      "  --help                          Show this message and exit.\n",
      "\n"
     ]
    }
   ],
   "source": [
    "run(cli.transliterate, ['--help'])"
   ]
  },
  {
   "cell_type": "code",
   "execution_count": 18,
   "id": "1c9d795c",
   "metadata": {},
   "outputs": [
    {
     "name": "stdout",
     "output_type": "stream",
     "text": [
      "A\n",
      "\n"
     ]
    }
   ],
   "source": [
    "run(cli.transliterate, ['--from', 'bundled', 'Example', 'a'])"
   ]
  },
  {
   "cell_type": "code",
   "execution_count": 19,
   "id": "d0c03a10",
   "metadata": {},
   "outputs": [
    {
     "name": "stdout",
     "output_type": "stream",
     "text": [
      "A\n",
      "\n"
     ]
    }
   ],
   "source": [
    "run(cli.transliterate, ['-f', 'json_file', '../graphtransliterator/transliterators/example/example.json', 'a'])"
   ]
  },
  {
   "cell_type": "code",
   "execution_count": 20,
   "id": "ac1bba95",
   "metadata": {},
   "outputs": [
    {
     "name": "stdout",
     "output_type": "stream",
     "text": [
      "A\n",
      "\n"
     ]
    }
   ],
   "source": [
    "run(cli.transliterate, ['-f', 'yaml_file', '../graphtransliterator/transliterators/example/example.yaml', 'a'])"
   ]
  },
  {
   "cell_type": "code",
   "execution_count": 21,
   "id": "9cdb5f63",
   "metadata": {},
   "outputs": [
    {
     "name": "stdout",
     "output_type": "stream",
     "text": [
      "['A', 'A']\n",
      "\n"
     ]
    }
   ],
   "source": [
    "run(cli.transliterate, ['-f', 'json_file', '../graphtransliterator/transliterators/example/example.json', 'a', 'a'])"
   ]
  },
  {
   "cell_type": "code",
   "execution_count": 22,
   "id": "1d50c378",
   "metadata": {},
   "outputs": [
    {
     "name": "stdout",
     "output_type": "stream",
     "text": [
      "A\n",
      "\n"
     ]
    }
   ],
   "source": [
    "run(cli.transliterate, ['-f', 'bundled', 'Example', 'a'])"
   ]
  },
  {
   "cell_type": "code",
   "execution_count": 23,
   "id": "db5d521b",
   "metadata": {},
   "outputs": [
    {
     "name": "stdout",
     "output_type": "stream",
     "text": [
      "\"A\"\n",
      "\n"
     ]
    }
   ],
   "source": [
    "run(cli.transliterate, ['-f', 'bundled', 'Example', '--to', 'json', 'a'])"
   ]
  },
  {
   "cell_type": "code",
   "execution_count": 24,
   "id": "707ec893",
   "metadata": {},
   "outputs": [
    {
     "name": "stdout",
     "output_type": "stream",
     "text": [
      "['A', 'A']\n",
      "\n"
     ]
    }
   ],
   "source": [
    "run(cli.transliterate, ['-f', 'bundled', 'Example', '--to', 'python', 'a', 'a'])"
   ]
  },
  {
   "cell_type": "code",
   "execution_count": 25,
   "id": "e668cfbc",
   "metadata": {},
   "outputs": [
    {
     "name": "stdout",
     "output_type": "stream",
     "text": [
      "[\"A\", \"A\"]\n",
      "\n"
     ]
    }
   ],
   "source": [
    "run(cli.transliterate, ['-f', 'bundled', 'Example', '--to', 'json', 'a', 'a'])"
   ]
  }
 ],
 "metadata": {
  "kernelspec": {
   "display_name": "Python 3",
   "language": "python",
   "name": "python3"
  },
  "language_info": {
   "codemirror_mode": {
    "name": "ipython",
    "version": 3
   },
   "file_extension": ".py",
   "mimetype": "text/x-python",
   "name": "python",
   "nbconvert_exporter": "python",
   "pygments_lexer": "ipython3",
   "version": "3.7.5"
  }
 },
 "nbformat": 4,
 "nbformat_minor": 5
}