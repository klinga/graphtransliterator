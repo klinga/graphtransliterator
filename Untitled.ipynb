{
 "cells": [
  {
   "cell_type": "code",
   "execution_count": 7,
   "metadata": {},
   "outputs": [],
   "source": [
    "import pytest\n",
    "from graphtransliterator import GraphTransliterator, NoMatchingTransliterationRuleException, UnrecognizableInputTokenException\n",
    "def test_GraphTransliterator_ignore_errors():\n",
    "    # if ignore_errors is not set and no matching transliteration rule\n",
    "    # raise NoMatchingTransliterationRule exception\n",
    "    yaml_str = \"\"\"\n",
    "        tokens:\n",
    "           a: [class1]\n",
    "           b: [class1]\n",
    "           ' ': [wb]\n",
    "        rules:\n",
    "           a a: B2\n",
    "           b: B\n",
    "        whitespace:\n",
    "           default: ' '\n",
    "           consolidate: true\n",
    "           token_class: wb\n",
    "           \"\"\"\n",
    "    # check that ignore_errors works\n",
    "    assert GraphTransliterator.from_yaml(\n",
    "        yaml_str, ignore_errors=True\n",
    "    ).transliterate('a') == ''\n",
    "\n",
    "    with pytest.raises(NoMatchingTransliterationRuleException):\n",
    "        gt = GraphTransliterator.from_yaml(yaml_str, ignore_errors=False)\n",
    "        assert gt.ignore_errors is False\n",
    "        gt.transliterate('a')\n",
    "\n",
    "    with pytest.raises(UnrecognizableInputTokenException):\n",
    "        gt = GraphTransliterator.from_yaml(yaml_str, ignore_errors=False)\n",
    "        assert gt.ignore_errors is False\n",
    "        gt.transliterate('!')\n",
    "\n",
    "    gt = GraphTransliterator.from_yaml(yaml_str, ignore_errors=True)\n",
    "    assert gt.ignore_errors is True\n",
    "    assert gt.transliterate('b!b') == 'bb'\n",
    "\n",
    "    with pytest.raises(UnrecognizableInputTokenException):\n",
    "        gt = GraphTransliterator.from_yaml(yaml_str, ignore_errors=False)\n",
    "        assert gt.ignore_errors is False\n",
    "        gt.transliterate('b!')\n",
    "\n",
    "    # # test ignore_errors keyword value checking on init\n",
    "    # with pytest.raises(ValueError):\n",
    "    #     GraphTransliterator.from_yaml(yaml_str, ignore_errors=\"maybe\")\n",
    "    # test ignore_errors keyword property\n",
    "\n",
    "    # test ignore_errors setter and property\n",
    "    gt.ignore_errors = True\n",
    "    assert gt.ignore_errors is True\n",
    "    gt.ignore_errors = False\n",
    "    assert gt.ignore_errors is False\n",
    "    # test ignore_errors setter exception handling\n",
    "    # with pytest.raises(ValueError):\n",
    "    #     gt.ignore_errors = \"Maybe\"\n"
   ]
  },
  {
   "cell_type": "code",
   "execution_count": 8,
   "metadata": {},
   "outputs": [
    {
     "name": "stderr",
     "output_type": "stream",
     "text": [
      "No matching transliteration rule at token pos 1 of [' ', 'a', ' ']\n",
      "No matching transliteration rule at token pos 1 of [' ', 'a', ' ']\n",
      "Unrecognizable token ! at pos 0 of !\n",
      "Unrecognizable token ! at pos 1 of b!b\n"
     ]
    },
    {
     "ename": "AssertionError",
     "evalue": "",
     "output_type": "error",
     "traceback": [
      "\u001b[0;31m---------------------------------------------------------------------------\u001b[0m",
      "\u001b[0;31mAssertionError\u001b[0m                            Traceback (most recent call last)",
      "\u001b[0;32m<ipython-input-8-ca67254ac9e3>\u001b[0m in \u001b[0;36m<module>\u001b[0;34m\u001b[0m\n\u001b[0;32m----> 1\u001b[0;31m \u001b[0mtest_GraphTransliterator_ignore_errors\u001b[0m\u001b[0;34m(\u001b[0m\u001b[0;34m)\u001b[0m\u001b[0;34m\u001b[0m\u001b[0m\n\u001b[0m",
      "\u001b[0;32m<ipython-input-7-b6db82316a88>\u001b[0m in \u001b[0;36mtest_GraphTransliterator_ignore_errors\u001b[0;34m()\u001b[0m\n\u001b[1;32m     34\u001b[0m     \u001b[0mgt\u001b[0m \u001b[0;34m=\u001b[0m \u001b[0mGraphTransliterator\u001b[0m\u001b[0;34m.\u001b[0m\u001b[0mfrom_yaml\u001b[0m\u001b[0;34m(\u001b[0m\u001b[0myaml_str\u001b[0m\u001b[0;34m,\u001b[0m \u001b[0mignore_errors\u001b[0m\u001b[0;34m=\u001b[0m\u001b[0;32mTrue\u001b[0m\u001b[0;34m)\u001b[0m\u001b[0;34m\u001b[0m\u001b[0m\n\u001b[1;32m     35\u001b[0m     \u001b[0;32massert\u001b[0m \u001b[0mgt\u001b[0m\u001b[0;34m.\u001b[0m\u001b[0mignore_errors\u001b[0m \u001b[0;32mis\u001b[0m \u001b[0;32mTrue\u001b[0m\u001b[0;34m\u001b[0m\u001b[0m\n\u001b[0;32m---> 36\u001b[0;31m     \u001b[0;32massert\u001b[0m \u001b[0mgt\u001b[0m\u001b[0;34m.\u001b[0m\u001b[0mtransliterate\u001b[0m\u001b[0;34m(\u001b[0m\u001b[0;34m'b!b'\u001b[0m\u001b[0;34m)\u001b[0m \u001b[0;34m==\u001b[0m \u001b[0;34m'bb'\u001b[0m\u001b[0;34m\u001b[0m\u001b[0m\n\u001b[0m\u001b[1;32m     37\u001b[0m \u001b[0;34m\u001b[0m\u001b[0m\n\u001b[1;32m     38\u001b[0m     \u001b[0;32mwith\u001b[0m \u001b[0mpytest\u001b[0m\u001b[0;34m.\u001b[0m\u001b[0mraises\u001b[0m\u001b[0;34m(\u001b[0m\u001b[0mUnrecognizableInputTokenException\u001b[0m\u001b[0;34m)\u001b[0m\u001b[0;34m:\u001b[0m\u001b[0;34m\u001b[0m\u001b[0m\n",
      "\u001b[0;31mAssertionError\u001b[0m: "
     ]
    }
   ],
   "source": [
    "test_GraphTransliterator_ignore_errors()"
   ]
  },
  {
   "cell_type": "code",
   "execution_count": null,
   "metadata": {},
   "outputs": [],
   "source": []
  }
 ],
 "metadata": {
  "kernelspec": {
   "display_name": "Python 3",
   "language": "python",
   "name": "python3"
  },
  "language_info": {
   "codemirror_mode": {
    "name": "ipython",
    "version": 3
   },
   "file_extension": ".py",
   "mimetype": "text/x-python",
   "name": "python",
   "nbconvert_exporter": "python",
   "pygments_lexer": "ipython3",
   "version": "3.6.4"
  }
 },
 "nbformat": 4,
 "nbformat_minor": 2
}
