{
 "cells": [
  {
   "cell_type": "code",
   "execution_count": 41,
   "metadata": {},
   "outputs": [],
   "source": [
    "import graphtransliterator\n",
    "import graphtransliterator.transliterators\n",
    "import jinja2\n",
    "import json\n",
    "import os\n",
    "\n",
    "GRAPHTRANSLITERATOR_NODE_DIR_BASENAME = \"graphtransliterator-node\"\n",
    "JS_CLASS_SOURCE = \"\"\"\n",
    "const {{ class_name }}Settings = require(\"./{{ json_filen }}\");\n",
    "const GraphTransliterator = require(\"../../GraphTransliterator.js\").default\n",
    "  .GraphTransliterator;\n",
    "const {{ class_name }}Transliterator = GraphTransliterator.fromDict({{ class_name }}Settings);\n",
    "module.exports = {{ class_name }}Transliterator;\n",
    "\"\"\".lstrip()\n",
    "PATH_TO_GRAPHTRANSLITERATOR_NODE = \".\"\n",
    "TRANSLITERATORS_PATH = os.path.join(PATH_TO_GRAPHTRANSLITERATOR_NODE, \"lib\", \"transliterators\")\n",
    "\n",
    "def test_cwd():\n",
    "    \"Check we are in the right directory.\"\n",
    "    os.getcwd()\n",
    "    print(os.getcwd())\n",
    "    _ = GRAPHTRANSLITERATOR_NODE_DIR_BASENAME\n",
    "    assert os.path.join(os.path.basename, \"..\") == _, f\"Not running from {_}\\scripts.\"\n",
    "    assert os.path.exists(TRANSLITERATORS_PATH), f\"{TRANSLITERATORS_PATH} does not exist.\"\n",
    "\n",
    "    overwrite_classes = False\n",
    "\n",
    "def make_json():\n",
    "    \"Copy JSON file.\"\n",
    "    try:\n",
    "        os.mkdir(js_path, dir_fd=True)\n",
    "    except FileExistsError:\n",
    "        pass\n",
    "\n",
    "    filen = os.path.join(js_path, json_filen)\n",
    "    try:\n",
    "        with open(filen, \"r\") as f:\n",
    "            js_json = json.load(f)\n",
    "        if js_json['metadata']['version'] == version:\n",
    "            print(f\"Skipping {json_filen}...\")\n",
    "            return\n",
    "    except FileNotFoundError:\n",
    "        pass\n",
    "    \n",
    "    with open(filen, \"w\") as f:\n",
    "        json.dump(transliterator_data, f)\n",
    "\n",
    "def make_class():\n",
    "    \"Create Node class.\"\n",
    "    output = template.render(class_name=class_name, json_filen=json_filen)\n",
    "    filen = os.path.join(js_path, class_filen)\n",
    "    try:\n",
    "        if not overwrite_classes:\n",
    "            with open(filen, \"r\") as f:\n",
    "                js_module = f.read()\n",
    "            if js_module == output:\n",
    "                print(f\"Skipping {class_filen}...\")\n",
    "                return\n",
    "    except FileNotFoundError:\n",
    "        pass\n",
    "    print(f\"Writing {class_filen}...\") \n",
    "    with open(filen, \"w\") as f:\n",
    "        f.write(output)\n",
    "\n",
    "\n",
    "if __name__ == \"__main__\":\n",
    "    test_cwd()\n",
    "    template = jinja2.Template(JS_CLASS_SOURCE)\n",
    "    for transliterator in graphtransliterator.transliterators.iter_transliterators():\n",
    "        class_name = type(transliterator).__name__\n",
    "        module_name = transliterator.name\n",
    "        json_filen = os.path.join(transliterator.directory, module_name) + \".json\"\n",
    "        with open(json_filen, 'r') as f:\n",
    "            transliterator_data = json.load(f)\n",
    "            version = transliterator_data['metadata']['version']\n",
    "        js_path = os.path.join(TRANSLITERATORS_PATH, class_name)\n",
    "        json_filen = module_name + \".json\"\n",
    "        class_filen = class_name + \".js\"\n",
    "        make_json()\n",
    "        make_class()\n",
    "   "
   ]
  },
  {
   "cell_type": "code",
   "execution_count": 32,
   "metadata": {},
   "outputs": [],
   "source": []
  },
  {
   "cell_type": "code",
   "execution_count": 28,
   "metadata": {},
   "outputs": [
    {
     "name": "stdout",
     "output_type": "stream",
     "text": [
      "Skipping example.json...\n",
      "Skipping Example.js...\n",
      "Skipping itrans_devanagari_to_unicode.json...\n",
      "Skipping ITRANSDevanagariToUnicode.js...\n"
     ]
    }
   ],
   "source": []
  },
  {
   "cell_type": "code",
   "execution_count": null,
   "metadata": {},
   "outputs": [],
   "source": [
    "!ls /Users/seanpue/gits/graphtransliterator-node/lib/transliterators/itrans_devanagari_to_unicode"
   ]
  },
  {
   "cell_type": "code",
   "execution_count": null,
   "metadata": {},
   "outputs": [],
   "source": [
    "transliterator.directory"
   ]
  }
 ],
 "metadata": {
  "kernelspec": {
   "display_name": "Python 3",
   "language": "python",
   "name": "python3"
  },
  "language_info": {
   "codemirror_mode": {
    "name": "ipython",
    "version": 3
   },
   "file_extension": ".py",
   "mimetype": "text/x-python",
   "name": "python",
   "nbconvert_exporter": "python",
   "pygments_lexer": "ipython3",
   "version": "3.7.5"
  }
 },
 "nbformat": 4,
 "nbformat_minor": 2
}
