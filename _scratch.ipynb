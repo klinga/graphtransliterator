{
 "cells": [
  {
   "cell_type": "code",
   "execution_count": 1,
   "metadata": {},
   "outputs": [
    {
     "name": "stderr",
     "output_type": "stream",
     "text": [
      "Unrecognizable token B at pos 0 of B\n"
     ]
    },
    {
     "data": {
      "text/plain": [
       "''"
      ]
     },
     "execution_count": 1,
     "metadata": {},
     "output_type": "execute_result"
    }
   ],
   "source": [
    "import importlib\n",
    "import graphtransliterator\n",
    "importlib.reload(graphtransliterator)\n",
    "import yaml\n",
    "good_yaml = \"\"\"\n",
    "          tokens:\n",
    "            a: [class1]\n",
    "            ' ': [wb]\n",
    "          rules:\n",
    "            a: A\n",
    "          whitespace:\n",
    "            default: ' '\n",
    "            consolidate: true\n",
    "            token_class: wb\n",
    "        \"\"\"\n",
    "#def doit():\n",
    "#    import pdb; pdb.set_trace()\n",
    "gt=graphtransliterator.GraphTransliterator.from_yaml(good_yaml, ignore_errors=True)\n",
    "#    gt.transliterate(\"B\")\n",
    "#doit()\n",
    "# from graphtransliterator import EasyReadingSettingsSchema, SettingsSchema\n",
    "# from graphtransliterator.process import _process_easyreading_settings\n",
    "# easyreading_settings = yaml.safe_load(good_yaml)\n",
    "# EasyReadingSettingsSchema().load(easyreading_settings)\n",
    "gt.transliterate(\"B\")"
   ]
  },
  {
   "cell_type": "code",
   "execution_count": null,
   "metadata": {},
   "outputs": [],
   "source": [
    "from graphtransliterator import GraphTransliterator\n",
    "from graphtransliterator.schemas import *\n",
    "from marshmallow import fields, Schema\n",
    "yaml_str = \"\"\"\n",
    "            tokens:\n",
    "               a: [class1]\n",
    "               b: [class1]\n",
    "               ' ': [wb]\n",
    "            onmatch_rules:\n",
    "               -\n",
    "                 <class1> <class1> + <class1>: '!!'\n",
    "            rules:\n",
    "               a a: B2\n",
    "               b: B\n",
    "            whitespace:\n",
    "               default: ' '\n",
    "               consolidate: true\n",
    "               token_class: wb\n",
    "            metadata:\n",
    "               author: \"James Joyce\"\n",
    "           \"\"\"\n",
    "        # check that ignore_errors works\n",
    "gt = GraphTransliterator.from_yaml(yaml_str, ignore_errors=True)#.transliterate(\"a\")\n",
    "gt.onmatch_rules"
   ]
  },
  {
   "cell_type": "code",
   "execution_count": null,
   "metadata": {},
   "outputs": [],
   "source": [
    "x = GraphTransliterator.load(gt.dump())\n",
    "x.onmatch_rules_lookup"
   ]
  },
  {
   "cell_type": "code",
   "execution_count": null,
   "metadata": {},
   "outputs": [],
   "source": [
    "from graphtransliterator import DirectedGraph\n",
    "from graphtransliterator.schemas import *\n",
    "from marshmallow import Schema, post_load, fields\n",
    "\n",
    "# x = DirectedGraphSchema().dump(gt.graph)\n",
    "# DirectedGraphSchema().load(x)"
   ]
  },
  {
   "cell_type": "code",
   "execution_count": null,
   "metadata": {},
   "outputs": [],
   "source": [
    "# import pkg_resources\n",
    "# class DirectedGraphSchema(Schema):\n",
    "#     class Meta():\n",
    "#         fields = (\"node\", \"edge\", \"edge_list\")\n",
    "\n",
    "#     @post_load\n",
    "#     def make_graph(self, data, **kwargs):\n",
    "#         return DirectedGraph(**data)#edge=data['edge'], node=data['node'], edge_list=data['edge_list'])\n",
    "\n",
    "# class GraphTransliteratorSchema(Schema):\n",
    "#     tokens = fields.Dict(\n",
    "#         keys=fields.Str(), values=fields.List(fields.Str()), required=True\n",
    "#     )\n",
    "#     rules = fields.Nested(RuleSchema, many=True, required=True)\n",
    "#     whitespace = fields.Nested(WhitespaceSettingsSchema, many=False, required=True)\n",
    "#     onmatch_rules = fields.Nested(OnMatchRuleSchema, many=True, required=False)\n",
    "\n",
    "#     metadata = fields.Dict(\n",
    "#         keys=fields.Str(), required=False  # no restriction on values\n",
    "#     )\n",
    "#     tokens_by_class = fields.Dict(\n",
    "#         keys=fields.Str(), values=fields.List(fields.Str)\n",
    "#     )\n",
    "#     graph = fields.Nested(DirectedGraphSchema)\n",
    "#     tokenizer_pattern = fields.Str()\n",
    "#     graphtransliterator_version = fields.Str()\n",
    "\n",
    "#     @post_load\n",
    "#     def make_GraphTransliterator(self, data, **kwargs):\n",
    "#         return GraphTransliterator(**data)#tokens, rules, whitespace, onmatch_rules=onmatch_rules,\n",
    "\n",
    "from graphtransliterator import GraphTransliteratorSchema\n",
    "s = GraphTransliteratorSchema()\n",
    "s.dump(gt)\n",
    "\n",
    "# #try:\n",
    "# s.loads(s.dumps(x))\n",
    "# #except ValidationError as e:\n",
    "# #    pprint.pprint(e)\n",
    "# #x"
   ]
  },
  {
   "cell_type": "code",
   "execution_count": null,
   "metadata": {},
   "outputs": [],
   "source": [
    "GraphTransliterator(**s.dump(gt))"
   ]
  },
  {
   "cell_type": "code",
   "execution_count": null,
   "metadata": {},
   "outputs": [],
   "source": [
    "x.onmatch_rules"
   ]
  },
  {
   "cell_type": "code",
   "execution_count": null,
   "metadata": {},
   "outputs": [],
   "source": [
    "s.loads(s.dumps(x))"
   ]
  },
  {
   "cell_type": "code",
   "execution_count": null,
   "metadata": {},
   "outputs": [],
   "source": [
    "gt._onmatch_rules_lookup"
   ]
  },
  {
   "cell_type": "code",
   "execution_count": null,
   "metadata": {},
   "outputs": [],
   "source": [
    "gt._onmatch_rules_lookup['a']['a']"
   ]
  },
  {
   "cell_type": "code",
   "execution_count": null,
   "metadata": {},
   "outputs": [],
   "source": []
  }
 ],
 "metadata": {
  "kernelspec": {
   "display_name": "Python 3",
   "language": "python",
   "name": "python3"
  },
  "language_info": {
   "codemirror_mode": {
    "name": "ipython",
    "version": 3
   },
   "file_extension": ".py",
   "mimetype": "text/x-python",
   "name": "python",
   "nbconvert_exporter": "python",
   "pygments_lexer": "ipython3",
   "version": "3.6.4"
  }
 },
 "nbformat": 4,
 "nbformat_minor": 2
}
