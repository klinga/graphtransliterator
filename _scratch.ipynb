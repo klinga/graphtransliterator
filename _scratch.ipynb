{
 "cells": [
  {
   "cell_type": "code",
   "execution_count": null,
   "metadata": {},
   "outputs": [],
   "source": [
    "from collections import namedtuple\n",
    "\n",
    "\n",
    "class TransliterationRule(\n",
    "    namedtuple(\n",
    "        \"TransliterationRule\",\n",
    "        [\n",
    "            \"production\",\n",
    "            \"prev_classes\",\n",
    "            \"prev_tokens\",\n",
    "            \"tokens\",\n",
    "            \"next_tokens\",\n",
    "            \"next_classes\",\n",
    "            \"cost\",\n",
    "        ],\n",
    "    )\n",
    "):\n",
    "    \"\"\"\n",
    "    A transliteration rule containing the specific match conditions and\n",
    "    string output to be produced, as well as the rule's cost.\n",
    "\n",
    "    Attributes\n",
    "    ----------\n",
    "    production: `str`\n",
    "        Output produced on match of rule\n",
    "    prev_classes: `list` of `str`, or `None`\n",
    "        List of previous token classes to be matched before tokens or,\n",
    "        if they exist, `prev_tokens`\n",
    "    prev_tokens: `list` of `str`, or `None`\n",
    "        List of tokens to be matched before `tokens`\n",
    "    tokens: `list` of `str`\n",
    "        List of tokens to match\n",
    "    next_tokens: `list` of `str`, or `None`\n",
    "        List of tokens to match after `tokens`\n",
    "    next_classes: `list` of `str`, or `None`\n",
    "        List of tokens to match after `tokens` or, if they exist, `next_tokens`\n",
    "    cost: `float`\n",
    "        Cost of the rule, where less specific rules are more costly\n",
    "    \"\"\"\n",
    "\n",
    "    __slots__ = ()\n",
    "x = TransliterationRule(production=\"PRODUCTION\", prev_classes=['PREV'], prev_tokens=['TOKEN1'], tokens=['A','B'],\n",
    "                       next_tokens=['Next1'], next_classes=['NEXT_CLASS'], cost=1)"
   ]
  },
  {
   "cell_type": "code",
   "execution_count": null,
   "metadata": {},
   "outputs": [],
   "source": [
    "from marshmallow import Schema, fields, post_load, post_dump, pre_load\n",
    "\n",
    "class TransliterationRuleSchema(Schema):\n",
    "    \"\"\"Schema for TransliterationRule.\"\"\"\n",
    "\n",
    "    production = fields.Str(required=True)\n",
    "    tokens = fields.List(fields.Str(), required=True)\n",
    "    prev_classes = fields.List(fields.Str(), allow_none=True)\n",
    "    next_classes = fields.List(fields.Str(), allow_none=True)\n",
    "    prev_tokens = fields.List(fields.Str(), allow_none=True)\n",
    "    next_tokens = fields.List(fields.Str(), allow_none=True)\n",
    "\n",
    "    class Meta:\n",
    "        fields = (\n",
    "            \"production\",\n",
    "            \"prev_classes\",\n",
    "            \"prev_tokens\",\n",
    "            \"tokens\",\n",
    "            \"next_classes\",\n",
    "            \"next_tokens\",\n",
    "            \"cost\",\n",
    "        )\n",
    "        ordered = True\n",
    "\n",
    "    @post_dump\n",
    "    def make_list(self, data, **kwargs):\n",
    "        return data\n",
    "    \n",
    "    @post_load\n",
    "    def make_transliteration_rule(self, data, **kwargs):\n",
    "        return TransliterationRule(**data)"
   ]
  },
  {
   "cell_type": "code",
   "execution_count": null,
   "metadata": {},
   "outputs": [],
   "source": [
    "TransliterationRuleSchema().dump(x)#load(x._asdict())"
   ]
  },
  {
   "cell_type": "code",
   "execution_count": null,
   "metadata": {},
   "outputs": [],
   "source": [
    "TransliterationRule(*list(x._asdict().values()))"
   ]
  },
  {
   "cell_type": "code",
   "execution_count": null,
   "metadata": {},
   "outputs": [],
   "source": [
    "TransliterationRuleSchema().load(**list(x._asdict().values()))"
   ]
  },
  {
   "cell_type": "code",
   "execution_count": null,
   "metadata": {},
   "outputs": [],
   "source": [
    "import importlib\n",
    "import graphtransliterator\n",
    "importlib.reload(graphtransliterator)\n",
    "from graphtransliterator import GraphTransliterator\n",
    "import yaml\n",
    "good_yaml = \"\"\"\n",
    "          tokens:\n",
    "            a: [class1]\n",
    "            ' ': [wb]\n",
    "          rules:\n",
    "            a: A\n",
    "          whitespace:\n",
    "            default: ' '\n",
    "            consolidate: true\n",
    "            token_class: wb\n",
    "        \"\"\"\n",
    "def doit():\n",
    "#    import pdb; pdb.set_trace()\n",
    "   # x = OrderedDict([('tokens', {'a': ['class1'], ' ': ['wb']}), ('rules', [OrderedDict([('production', 'A'), ('prev_classes', None), ('prev_tokens', None), ('tokens', ['a']), ('next_classes', None), ('next_tokens', None), ('cost', 0.5849625007211562)])]), ('whitespace', OrderedDict([('default', ' '), ('token_class', 'wb'), ('consolidate', True)])), ('onmatch_rules', None), ('metadata', {}), ('onmatch_rules_lookup', None), ('tokens_by_class', {'class1': ['a'], 'wb': [' ']}), ('graph', {'edge': {0: {1: {'token': 'a', 'cost': 0.5849625007211562}}, 1: {2: {'cost': 0.5849625007211562}}}, 'edge_list': [(0, 1), (1, 2)], 'node': [{'type': 'Start', 'ordered_children': {'a': [1]}}, {'type': 'token', 'token': 'a', 'ordered_children': {'__rules__': [2]}}, {'type': 'rule', 'rule_key': 0, 'rule': TransliterationRule(production='A', prev_classes=None, prev_tokens=None, tokens=['a'], next_tokens=None, next_classes=None, cost=0.5849625007211562), 'accepting': True, 'ordered_children': {}}]}), ('tokenizer_pattern', '(a|\\\\ )'), ('graphtransliterator_version', '0.2.14')])\n",
    "    gt=graphtransliterator.GraphTransliterator(**x)#.from_yaml(good_yaml, ignore_errors=True)\n",
    "\n",
    "#    gt.transliterate(\"B\")\n",
    "#doit()\n",
    "# from graphtransliterator import EasyReadingSettingsSchema, SettingsSchema\n",
    "# from graphtransliterator.process import _process_easyreading_settings\n",
    "# easyreading_settings = yaml.safe_load(good_yaml)\n",
    "# EasyReadingSettingsSchema().load(easyreading_settings)\n",
    "gt = GraphTransliterator.from_yaml(good_yaml)\n",
    "gt.dump()"
   ]
  },
  {
   "cell_type": "code",
   "execution_count": null,
   "metadata": {},
   "outputs": [],
   "source": [
    "for n in gt.graph.node:\n",
    "    print(n)"
   ]
  },
  {
   "cell_type": "code",
   "execution_count": null,
   "metadata": {},
   "outputs": [],
   "source": [
    "for d in gt.rules[0]:\n",
    "    print(d)"
   ]
  },
  {
   "cell_type": "code",
   "execution_count": null,
   "metadata": {},
   "outputs": [],
   "source": [
    "gt.rules[0].production"
   ]
  },
  {
   "cell_type": "code",
   "execution_count": null,
   "metadata": {},
   "outputs": [],
   "source": [
    "graphtransliterator.schemas.TransliterationRuleSchema().dump(gt.rules)"
   ]
  },
  {
   "cell_type": "code",
   "execution_count": null,
   "metadata": {},
   "outputs": [],
   "source": [
    "gt.dump()"
   ]
  },
  {
   "cell_type": "code",
   "execution_count": null,
   "metadata": {},
   "outputs": [],
   "source": [
    "#import graphtransliterator\n",
    "import graphtransliterator\n",
    "from graphtransliterator import *\n",
    "from collections import OrderedDict\n",
    "graphtransliterator.GraphTransliterator(**x)"
   ]
  },
  {
   "cell_type": "code",
   "execution_count": null,
   "metadata": {},
   "outputs": [],
   "source": [
    "graphtransliterator.WhitespaceSettingsSchema"
   ]
  },
  {
   "cell_type": "code",
   "execution_count": 4,
   "metadata": {},
   "outputs": [
    {
     "data": {
      "text/plain": [
       "True"
      ]
     },
     "execution_count": 4,
     "metadata": {},
     "output_type": "execute_result"
    }
   ],
   "source": [
    "from graphtransliterator import GraphTransliterator\n",
    "from graphtransliterator.schemas import *\n",
    "from marshmallow import fields, Schema\n",
    "yaml_str = \"\"\"\n",
    "            tokens:\n",
    "               a: [class1]\n",
    "               b: [class1]\n",
    "               ' ': [wb]\n",
    "            onmatch_rules:\n",
    "               -\n",
    "                 <class1> <class1> + <class1>: '!!'\n",
    "            rules:\n",
    "               a a: B2\n",
    "               b: B\n",
    "            whitespace:\n",
    "               default: ' '\n",
    "               consolidate: true\n",
    "               token_class: wb\n",
    "            metadata:\n",
    "               author: \"James Joyce\"\n",
    "           \"\"\"\n",
    "        # check that ignore_errors works\n",
    "gt = GraphTransliterator.from_yaml(yaml_str, ignore_errors=True)#.transliterate(\"a\")\n",
    "gt.dumps()\n",
    "GraphTransliterator.loads(gt.dumps())\n",
    "#gt.dump()#load(gt.dump())#onmatch_rules"
   ]
  },
  {
   "cell_type": "code",
   "execution_count": null,
   "metadata": {},
   "outputs": [],
   "source": [
    "tr = gt.rules[0]\n",
    "graphtransliterator.schemas.TransliterationRuleSchema().load(tr)"
   ]
  },
  {
   "cell_type": "code",
   "execution_count": null,
   "metadata": {},
   "outputs": [],
   "source": [
    "from graphtransliterator import DirectedGraph\n",
    "from graphtransliterator.schemas import *\n",
    "from marshmallow import Schema, post_load, fields\n",
    "\n",
    "# x = DirectedGraphSchema().dump(gt.graph)\n",
    "# DirectedGraphSchema().load(x)"
   ]
  },
  {
   "cell_type": "code",
   "execution_count": null,
   "metadata": {},
   "outputs": [],
   "source": [
    "# import pkg_resources\n",
    "# class DirectedGraphSchema(Schema):\n",
    "#     class Meta():\n",
    "#         fields = (\"node\", \"edge\", \"edge_list\")\n",
    "\n",
    "#     @post_load\n",
    "#     def make_graph(self, data, **kwargs):\n",
    "#         return DirectedGraph(**data)#edge=data['edge'], node=data['node'], edge_list=data['edge_list'])\n",
    "\n",
    "# class GraphTransliteratorSchema(Schema):\n",
    "#     tokens = fields.Dict(\n",
    "#         keys=fields.Str(), values=fields.List(fields.Str()), required=True\n",
    "#     )\n",
    "#     rules = fields.Nested(RuleSchema, many=True, required=True)\n",
    "#     whitespace = fields.Nested(WhitespaceSettingsSchema, many=False, required=True)\n",
    "#     onmatch_rules = fields.Nested(OnMatchRuleSchema, many=True, required=False)\n",
    "\n",
    "#     metadata = fields.Dict(\n",
    "#         keys=fields.Str(), required=False  # no restriction on values\n",
    "#     )\n",
    "#     tokens_by_class = fields.Dict(\n",
    "#         keys=fields.Str(), values=fields.List(fields.Str)\n",
    "#     )\n",
    "#     graph = fields.Nested(DirectedGraphSchema)\n",
    "#     tokenizer_pattern = fields.Str()\n",
    "#     graphtransliterator_version = fields.Str()\n",
    "\n",
    "#     @post_load\n",
    "#     def make_GraphTransliterator(self, data, **kwargs):\n",
    "#         return GraphTransliterator(**data)#tokens, rules, whitespace, onmatch_rules=onmatch_rules,\n",
    "\n",
    "from graphtransliterator import GraphTransliteratorSchema\n",
    "s = GraphTransliteratorSchema()\n",
    "gt.dump()\n",
    "\n",
    "# #try:\n",
    "# s.loads(s.dumps(x))\n",
    "# #except ValidationError as e:\n",
    "# #    pprint.pprint(e)\n",
    "# #x"
   ]
  },
  {
   "cell_type": "code",
   "execution_count": null,
   "metadata": {},
   "outputs": [],
   "source": [
    "GraphTransliterator(**s.dump(gt))"
   ]
  },
  {
   "cell_type": "code",
   "execution_count": null,
   "metadata": {},
   "outputs": [],
   "source": [
    "x.onmatch_rules"
   ]
  },
  {
   "cell_type": "code",
   "execution_count": null,
   "metadata": {},
   "outputs": [],
   "source": [
    "s.loads(s.dumps(x))"
   ]
  },
  {
   "cell_type": "code",
   "execution_count": null,
   "metadata": {},
   "outputs": [],
   "source": [
    "gt._onmatch_rules_lookup"
   ]
  },
  {
   "cell_type": "code",
   "execution_count": null,
   "metadata": {},
   "outputs": [],
   "source": [
    "gt._onmatch_rules_lookup['a']['a']"
   ]
  },
  {
   "cell_type": "code",
   "execution_count": null,
   "metadata": {},
   "outputs": [],
   "source": []
  }
 ],
 "metadata": {
  "kernelspec": {
   "display_name": "Python 3",
   "language": "python",
   "name": "python3"
  },
  "language_info": {
   "codemirror_mode": {
    "name": "ipython",
    "version": 3
   },
   "file_extension": ".py",
   "mimetype": "text/x-python",
   "name": "python",
   "nbconvert_exporter": "python",
   "pygments_lexer": "ipython3",
   "version": "3.6.4"
  }
 },
 "nbformat": 4,
 "nbformat_minor": 2
}
